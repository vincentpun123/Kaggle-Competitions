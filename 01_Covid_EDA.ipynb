{
 "cells": [
  {
   "cell_type": "raw",
   "metadata": {},
   "source": [
    "Appendix A "
   ]
  },
  {
   "cell_type": "markdown",
   "metadata": {},
   "source": [
    "### Assignment 1 - Exploring and Visualizing Data<Br>\n",
    "**MSDS 422**<Br>\n",
    "**Prepared by Vincent Pun**<Br>\n",
    "\n",
    "**Background Materials**<br>\n",
    "COVID 19 is an ongoing threat.  Data for the outbreak are available here:  https://www.ecdc.europa.eu/en/publications-data/download-todays-data-geographic-distribution-covid-19-cases-worldwide (Links to an external site.)\n",
    "\n",
    "Using this data, you are to conduct exploratory data analysis.  Provide appropriate descriptive statistics  / visualizations to help understand the spread of the disease (incidence) as well as its fatality rate.  You should also engage in feature creation and variable transformation.  At a bare minimum, feature creation should include generating rates per X in the population (i.e., rates per million).  Investigate time series as well as univariate and bivariate distribution graphs. \n",
    "\n",
    "Select one of variable and perform both min-max and standard scaling in Python.  See https://scikit-learn.org/stable/auto_examples/preprocessing/plot_all_scaling.html#sphx-glr-auto-examples-preprocessing-plot-all-scaling-py (Links to an external site.)\n",
    "\n",
    " (Some methods we will learn in this course  (trees and random forests) are unaffected by monotonic transformations of the explanatory variables. Others (SVMs and neural networks) are very much affected by scaling and usually perform better when all explanatory variables have the same scale. It is often best to use scaling methods that preserve the shape of the distribution. But if there are extreme outliers or heavily skewed distributions, then log or normalizing transformations may be warranted.)\n",
    " \n",
    " **Management Questions**<br>\n",
    " What are the management and analytical questions associated with this problem?\n",
    " \n",
    " **Grading**<Br>\n",
    " Data preparation (10 points)<br>\n",
    "Data exploration (10 points)<br>\n",
    "Data visualization (10 points)<br>\n",
    "Data scaling and comparisons (10 points)<br>\n",
    "Insights from analysis (10 points)<br>\n",
    "    \n",
    "**Deliverables and File Formats**<Br>\n",
    "Provide a double-spaced paper with a two-page maximum for the text. The paper should include all a discussion of all graded elements but focus particularly on insights. Include your Python code and output as an appendix.    Upload this as a single .pdf file."
   ]
  },
  {
   "cell_type": "markdown",
   "metadata": {},
   "source": [
    "### Data Preparation"
   ]
  },
  {
   "cell_type": "code",
   "execution_count": 1,
   "metadata": {},
   "outputs": [
    {
     "data": {
      "text/html": [
       "        <script type=\"text/javascript\">\n",
       "        window.PlotlyConfig = {MathJaxConfig: 'local'};\n",
       "        if (window.MathJax) {MathJax.Hub.Config({SVG: {font: \"STIX-Web\"}});}\n",
       "        if (typeof require !== 'undefined') {\n",
       "        require.undef(\"plotly\");\n",
       "        requirejs.config({\n",
       "            paths: {\n",
       "                'plotly': ['https://cdn.plot.ly/plotly-latest.min']\n",
       "            }\n",
       "        });\n",
       "        require(['plotly'], function(Plotly) {\n",
       "            window._Plotly = Plotly;\n",
       "        });\n",
       "        }\n",
       "        </script>\n",
       "        "
      ]
     },
     "metadata": {},
     "output_type": "display_data"
    }
   ],
   "source": [
    "# To support both python 2 and python 3\n",
    "from __future__ import division, print_function, unicode_literals\n",
    "\n",
    "# Imports\n",
    "import os\n",
    "import pandas as pd\n",
    "import seaborn as sns\n",
    "import numpy as np\n",
    "\n",
    "import plotly.graph_objs as go\n",
    "from plotly.offline import download_plotlyjs, init_notebook_mode, plot, iplot\n",
    "init_notebook_mode(connected=True)\n",
    "\n",
    "from sklearn import tree\n",
    "from sklearn.metrics import accuracy_score\n",
    "from sklearn import preprocessing\n",
    "\n",
    "from sklearn.preprocessing import MinMaxScaler\n",
    "from sklearn.preprocessing import minmax_scale\n",
    "from sklearn.preprocessing import MaxAbsScaler\n",
    "from sklearn.preprocessing import StandardScaler\n",
    "from sklearn.preprocessing import RobustScaler\n",
    "from sklearn.preprocessing import Normalizer\n",
    "from sklearn.preprocessing import QuantileTransformer\n",
    "from sklearn.preprocessing import PowerTransformer\n",
    "\n",
    "# to make this notebook's output stable across runs\n",
    "np.random.seed(42)\n",
    "\n",
    "# To plot pretty figures\n",
    "%matplotlib inline\n",
    "import matplotlib as mpl\n",
    "from matplotlib import cm\n",
    "import matplotlib.pyplot as plt\n",
    "\n",
    "mpl.rc('axes', labelsize=14)\n",
    "mpl.rc('xtick', labelsize=12)\n",
    "mpl.rc('ytick', labelsize=12)\n",
    "\n",
    "# Ignore useless warnings (see SciPy issue #5998)\n",
    "import warnings\n",
    "warnings.filterwarnings(action=\"ignore\", message=\"^internal gelsd\")\n",
    "\n",
    "# set up notebook to display multiple output in one cell\n",
    "from IPython.core.interactiveshell import InteractiveShell\n",
    "InteractiveShell.ast_node_interactivity = \"all\""
   ]
  },
  {
   "cell_type": "code",
   "execution_count": 2,
   "metadata": {},
   "outputs": [
    {
     "data": {
      "text/plain": [
       "'/Users/vincentpun/Documents/Northwestern/MSDS 422/Module 1/Assignment 1 - COVID EDA - Exploring and Visualizing Data'"
      ]
     },
     "execution_count": 2,
     "metadata": {},
     "output_type": "execute_result"
    }
   ],
   "source": [
    "os.getcwd()"
   ]
  },
  {
   "cell_type": "code",
   "execution_count": 3,
   "metadata": {
    "scrolled": true
   },
   "outputs": [
    {
     "data": {
      "text/html": [
       "<div>\n",
       "<style scoped>\n",
       "    .dataframe tbody tr th:only-of-type {\n",
       "        vertical-align: middle;\n",
       "    }\n",
       "\n",
       "    .dataframe tbody tr th {\n",
       "        vertical-align: top;\n",
       "    }\n",
       "\n",
       "    .dataframe thead th {\n",
       "        text-align: right;\n",
       "    }\n",
       "</style>\n",
       "<table border=\"1\" class=\"dataframe\">\n",
       "  <thead>\n",
       "    <tr style=\"text-align: right;\">\n",
       "      <th></th>\n",
       "      <th>dateRep</th>\n",
       "      <th>day</th>\n",
       "      <th>month</th>\n",
       "      <th>year</th>\n",
       "      <th>cases</th>\n",
       "      <th>deaths</th>\n",
       "      <th>countriesAndTerritories</th>\n",
       "      <th>geoId</th>\n",
       "      <th>countryterritoryCode</th>\n",
       "      <th>popData2019</th>\n",
       "      <th>continentExp</th>\n",
       "    </tr>\n",
       "  </thead>\n",
       "  <tbody>\n",
       "    <tr>\n",
       "      <th>0</th>\n",
       "      <td>27/06/2020</td>\n",
       "      <td>27</td>\n",
       "      <td>6</td>\n",
       "      <td>2020</td>\n",
       "      <td>276</td>\n",
       "      <td>8</td>\n",
       "      <td>Afghanistan</td>\n",
       "      <td>AF</td>\n",
       "      <td>AFG</td>\n",
       "      <td>38041757.0</td>\n",
       "      <td>Asia</td>\n",
       "    </tr>\n",
       "    <tr>\n",
       "      <th>1</th>\n",
       "      <td>26/06/2020</td>\n",
       "      <td>26</td>\n",
       "      <td>6</td>\n",
       "      <td>2020</td>\n",
       "      <td>460</td>\n",
       "      <td>36</td>\n",
       "      <td>Afghanistan</td>\n",
       "      <td>AF</td>\n",
       "      <td>AFG</td>\n",
       "      <td>38041757.0</td>\n",
       "      <td>Asia</td>\n",
       "    </tr>\n",
       "    <tr>\n",
       "      <th>2</th>\n",
       "      <td>25/06/2020</td>\n",
       "      <td>25</td>\n",
       "      <td>6</td>\n",
       "      <td>2020</td>\n",
       "      <td>234</td>\n",
       "      <td>21</td>\n",
       "      <td>Afghanistan</td>\n",
       "      <td>AF</td>\n",
       "      <td>AFG</td>\n",
       "      <td>38041757.0</td>\n",
       "      <td>Asia</td>\n",
       "    </tr>\n",
       "    <tr>\n",
       "      <th>3</th>\n",
       "      <td>24/06/2020</td>\n",
       "      <td>24</td>\n",
       "      <td>6</td>\n",
       "      <td>2020</td>\n",
       "      <td>338</td>\n",
       "      <td>20</td>\n",
       "      <td>Afghanistan</td>\n",
       "      <td>AF</td>\n",
       "      <td>AFG</td>\n",
       "      <td>38041757.0</td>\n",
       "      <td>Asia</td>\n",
       "    </tr>\n",
       "    <tr>\n",
       "      <th>4</th>\n",
       "      <td>23/06/2020</td>\n",
       "      <td>23</td>\n",
       "      <td>6</td>\n",
       "      <td>2020</td>\n",
       "      <td>310</td>\n",
       "      <td>17</td>\n",
       "      <td>Afghanistan</td>\n",
       "      <td>AF</td>\n",
       "      <td>AFG</td>\n",
       "      <td>38041757.0</td>\n",
       "      <td>Asia</td>\n",
       "    </tr>\n",
       "  </tbody>\n",
       "</table>\n",
       "</div>"
      ],
      "text/plain": [
       "      dateRep  day  month  year  cases  deaths countriesAndTerritories geoId  \\\n",
       "0  27/06/2020   27      6  2020    276       8             Afghanistan    AF   \n",
       "1  26/06/2020   26      6  2020    460      36             Afghanistan    AF   \n",
       "2  25/06/2020   25      6  2020    234      21             Afghanistan    AF   \n",
       "3  24/06/2020   24      6  2020    338      20             Afghanistan    AF   \n",
       "4  23/06/2020   23      6  2020    310      17             Afghanistan    AF   \n",
       "\n",
       "  countryterritoryCode  popData2019 continentExp  \n",
       "0                  AFG   38041757.0         Asia  \n",
       "1                  AFG   38041757.0         Asia  \n",
       "2                  AFG   38041757.0         Asia  \n",
       "3                  AFG   38041757.0         Asia  \n",
       "4                  AFG   38041757.0         Asia  "
      ]
     },
     "execution_count": 3,
     "metadata": {},
     "output_type": "execute_result"
    },
    {
     "data": {
      "text/html": [
       "<div>\n",
       "<style scoped>\n",
       "    .dataframe tbody tr th:only-of-type {\n",
       "        vertical-align: middle;\n",
       "    }\n",
       "\n",
       "    .dataframe tbody tr th {\n",
       "        vertical-align: top;\n",
       "    }\n",
       "\n",
       "    .dataframe thead th {\n",
       "        text-align: right;\n",
       "    }\n",
       "</style>\n",
       "<table border=\"1\" class=\"dataframe\">\n",
       "  <thead>\n",
       "    <tr style=\"text-align: right;\">\n",
       "      <th></th>\n",
       "      <th>day</th>\n",
       "      <th>month</th>\n",
       "      <th>year</th>\n",
       "      <th>cases</th>\n",
       "      <th>deaths</th>\n",
       "      <th>popData2019</th>\n",
       "    </tr>\n",
       "  </thead>\n",
       "  <tbody>\n",
       "    <tr>\n",
       "      <th>count</th>\n",
       "      <td>26144.000000</td>\n",
       "      <td>26144.000000</td>\n",
       "      <td>26144.000000</td>\n",
       "      <td>26144.000000</td>\n",
       "      <td>26144.000000</td>\n",
       "      <td>2.608000e+04</td>\n",
       "    </tr>\n",
       "    <tr>\n",
       "      <th>mean</th>\n",
       "      <td>16.011475</td>\n",
       "      <td>4.165927</td>\n",
       "      <td>2019.997437</td>\n",
       "      <td>373.736001</td>\n",
       "      <td>18.891447</td>\n",
       "      <td>4.705540e+07</td>\n",
       "    </tr>\n",
       "    <tr>\n",
       "      <th>std</th>\n",
       "      <td>8.674596</td>\n",
       "      <td>1.550983</td>\n",
       "      <td>0.050559</td>\n",
       "      <td>2129.615082</td>\n",
       "      <td>121.901395</td>\n",
       "      <td>1.679260e+08</td>\n",
       "    </tr>\n",
       "    <tr>\n",
       "      <th>min</th>\n",
       "      <td>1.000000</td>\n",
       "      <td>1.000000</td>\n",
       "      <td>2019.000000</td>\n",
       "      <td>-2461.000000</td>\n",
       "      <td>-1918.000000</td>\n",
       "      <td>8.150000e+02</td>\n",
       "    </tr>\n",
       "    <tr>\n",
       "      <th>25%</th>\n",
       "      <td>9.000000</td>\n",
       "      <td>3.000000</td>\n",
       "      <td>2020.000000</td>\n",
       "      <td>0.000000</td>\n",
       "      <td>0.000000</td>\n",
       "      <td>1.919968e+06</td>\n",
       "    </tr>\n",
       "    <tr>\n",
       "      <th>50%</th>\n",
       "      <td>16.000000</td>\n",
       "      <td>4.000000</td>\n",
       "      <td>2020.000000</td>\n",
       "      <td>4.000000</td>\n",
       "      <td>0.000000</td>\n",
       "      <td>8.858775e+06</td>\n",
       "    </tr>\n",
       "    <tr>\n",
       "      <th>75%</th>\n",
       "      <td>23.000000</td>\n",
       "      <td>5.000000</td>\n",
       "      <td>2020.000000</td>\n",
       "      <td>66.000000</td>\n",
       "      <td>1.000000</td>\n",
       "      <td>3.194979e+07</td>\n",
       "    </tr>\n",
       "    <tr>\n",
       "      <th>max</th>\n",
       "      <td>31.000000</td>\n",
       "      <td>12.000000</td>\n",
       "      <td>2020.000000</td>\n",
       "      <td>54771.000000</td>\n",
       "      <td>4928.000000</td>\n",
       "      <td>1.433784e+09</td>\n",
       "    </tr>\n",
       "  </tbody>\n",
       "</table>\n",
       "</div>"
      ],
      "text/plain": [
       "                day         month          year         cases        deaths  \\\n",
       "count  26144.000000  26144.000000  26144.000000  26144.000000  26144.000000   \n",
       "mean      16.011475      4.165927   2019.997437    373.736001     18.891447   \n",
       "std        8.674596      1.550983      0.050559   2129.615082    121.901395   \n",
       "min        1.000000      1.000000   2019.000000  -2461.000000  -1918.000000   \n",
       "25%        9.000000      3.000000   2020.000000      0.000000      0.000000   \n",
       "50%       16.000000      4.000000   2020.000000      4.000000      0.000000   \n",
       "75%       23.000000      5.000000   2020.000000     66.000000      1.000000   \n",
       "max       31.000000     12.000000   2020.000000  54771.000000   4928.000000   \n",
       "\n",
       "        popData2019  \n",
       "count  2.608000e+04  \n",
       "mean   4.705540e+07  \n",
       "std    1.679260e+08  \n",
       "min    8.150000e+02  \n",
       "25%    1.919968e+06  \n",
       "50%    8.858775e+06  \n",
       "75%    3.194979e+07  \n",
       "max    1.433784e+09  "
      ]
     },
     "execution_count": 3,
     "metadata": {},
     "output_type": "execute_result"
    }
   ],
   "source": [
    "df=pd.read_csv('data.csv')\n",
    "\n",
    "#.head()\n",
    "df.head()\n",
    "\n",
    "df.describe()"
   ]
  },
  {
   "cell_type": "markdown",
   "metadata": {},
   "source": [
    "**Confirm that date and time are accurate (dateRep, day, month, year)**"
   ]
  },
  {
   "cell_type": "code",
   "execution_count": 4,
   "metadata": {},
   "outputs": [],
   "source": [
    "#convert dtype - dateRep - object to datetime\n",
    "df['dateRep'] = pd.to_datetime(df['dateRep'])"
   ]
  },
  {
   "cell_type": "code",
   "execution_count": 5,
   "metadata": {},
   "outputs": [
    {
     "data": {
      "text/plain": [
       "array([2020, 2019])"
      ]
     },
     "execution_count": 5,
     "metadata": {},
     "output_type": "execute_result"
    },
    {
     "data": {
      "text/plain": [
       "array([ 6,  5,  4,  3,  2,  1, 12])"
      ]
     },
     "execution_count": 5,
     "metadata": {},
     "output_type": "execute_result"
    },
    {
     "data": {
      "text/plain": [
       "array([27, 26, 25, 24, 23, 22, 21, 20, 19, 18, 17, 16, 15, 14, 13, 12, 11,\n",
       "       10,  9,  8,  7,  6,  5,  4,  3,  2,  1, 31, 30, 29, 28])"
      ]
     },
     "execution_count": 5,
     "metadata": {},
     "output_type": "execute_result"
    }
   ],
   "source": [
    "#unique values per date column\n",
    "df['year'].unique()\n",
    "df['month'].unique()\n",
    "df['day'].unique()"
   ]
  },
  {
   "cell_type": "code",
   "execution_count": 6,
   "metadata": {},
   "outputs": [
    {
     "data": {
      "text/plain": [
       "Timestamp('2019-12-31 00:00:00')"
      ]
     },
     "execution_count": 6,
     "metadata": {},
     "output_type": "execute_result"
    },
    {
     "data": {
      "text/plain": [
       "Timestamp('2020-12-06 00:00:00')"
      ]
     },
     "execution_count": 6,
     "metadata": {},
     "output_type": "execute_result"
    },
    {
     "data": {
      "text/html": [
       "<div>\n",
       "<style scoped>\n",
       "    .dataframe tbody tr th:only-of-type {\n",
       "        vertical-align: middle;\n",
       "    }\n",
       "\n",
       "    .dataframe tbody tr th {\n",
       "        vertical-align: top;\n",
       "    }\n",
       "\n",
       "    .dataframe thead th {\n",
       "        text-align: right;\n",
       "    }\n",
       "</style>\n",
       "<table border=\"1\" class=\"dataframe\">\n",
       "  <thead>\n",
       "    <tr style=\"text-align: right;\">\n",
       "      <th></th>\n",
       "      <th>dateRep</th>\n",
       "      <th>day</th>\n",
       "      <th>month</th>\n",
       "      <th>year</th>\n",
       "      <th>cases</th>\n",
       "      <th>deaths</th>\n",
       "      <th>countriesAndTerritories</th>\n",
       "      <th>geoId</th>\n",
       "      <th>countryterritoryCode</th>\n",
       "      <th>popData2019</th>\n",
       "      <th>continentExp</th>\n",
       "    </tr>\n",
       "  </thead>\n",
       "  <tbody>\n",
       "    <tr>\n",
       "      <th>15</th>\n",
       "      <td>2020-12-06</td>\n",
       "      <td>12</td>\n",
       "      <td>6</td>\n",
       "      <td>2020</td>\n",
       "      <td>747</td>\n",
       "      <td>21</td>\n",
       "      <td>Afghanistan</td>\n",
       "      <td>AF</td>\n",
       "      <td>AFG</td>\n",
       "      <td>38041757.0</td>\n",
       "      <td>Asia</td>\n",
       "    </tr>\n",
       "    <tr>\n",
       "      <th>185</th>\n",
       "      <td>2020-12-06</td>\n",
       "      <td>12</td>\n",
       "      <td>6</td>\n",
       "      <td>2020</td>\n",
       "      <td>44</td>\n",
       "      <td>1</td>\n",
       "      <td>Albania</td>\n",
       "      <td>AL</td>\n",
       "      <td>ALB</td>\n",
       "      <td>2862427.0</td>\n",
       "      <td>Europe</td>\n",
       "    </tr>\n",
       "  </tbody>\n",
       "</table>\n",
       "</div>"
      ],
      "text/plain": [
       "       dateRep  day  month  year  cases  deaths countriesAndTerritories geoId  \\\n",
       "15  2020-12-06   12      6  2020    747      21             Afghanistan    AF   \n",
       "185 2020-12-06   12      6  2020     44       1                 Albania    AL   \n",
       "\n",
       "    countryterritoryCode  popData2019 continentExp  \n",
       "15                   AFG   38041757.0         Asia  \n",
       "185                  ALB    2862427.0       Europe  "
      ]
     },
     "execution_count": 6,
     "metadata": {},
     "output_type": "execute_result"
    }
   ],
   "source": [
    "#dateRep Accuracy\n",
    "\n",
    "#default datetime format is YYYY-MM-DD\n",
    "\n",
    "#earliest instance of data\n",
    "df['dateRep'].min()\n",
    "\n",
    "#most recent instance of data\n",
    "max(df['dateRep'])\n",
    "\n",
    "#December 6 2020 did not happen yet\n",
    "df_testdate = df[df['dateRep']==\"2020-12-06\"]\n",
    "df_testdate.head(2)"
   ]
  },
  {
   "cell_type": "code",
   "execution_count": 7,
   "metadata": {
    "scrolled": true
   },
   "outputs": [
    {
     "name": "stdout",
     "output_type": "stream",
     "text": [
      "<class 'pandas.core.frame.DataFrame'>\n",
      "RangeIndex: 26144 entries, 0 to 26143\n",
      "Data columns (total 11 columns):\n",
      " #   Column                   Non-Null Count  Dtype         \n",
      "---  ------                   --------------  -----         \n",
      " 0   dateRep                  26144 non-null  datetime64[ns]\n",
      " 1   day                      26144 non-null  int64         \n",
      " 2   month                    26144 non-null  int64         \n",
      " 3   year                     26144 non-null  int64         \n",
      " 4   cases                    26144 non-null  int64         \n",
      " 5   deaths                   26144 non-null  int64         \n",
      " 6   countriesAndTerritories  26144 non-null  object        \n",
      " 7   geoId                    26039 non-null  object        \n",
      " 8   countryterritoryCode     26080 non-null  object        \n",
      " 9   popData2019              26080 non-null  float64       \n",
      " 10  continentExp             26144 non-null  object        \n",
      "dtypes: datetime64[ns](1), float64(1), int64(5), object(4)\n",
      "memory usage: 2.2+ MB\n"
     ]
    }
   ],
   "source": [
    "#convert to str\n",
    "df['day']= df['day'].astype(str)\n",
    "df['month']= df['month'].astype(str)\n",
    "df['year']= df['year'].astype(str)\n",
    "\n",
    "df['dateRep'] = df['year'] + '-' + df['month'] + '-' + df['day']\n",
    "\n",
    "#convert dtype - dateRep - object to datetime\n",
    "df['dateRep'] = pd.to_datetime(df['dateRep'])\n",
    "\n",
    "#convert to int\n",
    "df['day']= df['day'].astype(int)\n",
    "df['month']= df['month'].astype(int)\n",
    "df['year']= df['year'].astype(int)\n",
    "\n",
    "#confirm dtypes\n",
    "df.info()"
   ]
  },
  {
   "cell_type": "code",
   "execution_count": 8,
   "metadata": {},
   "outputs": [
    {
     "data": {
      "text/plain": [
       "Timestamp('2019-12-31 00:00:00')"
      ]
     },
     "execution_count": 8,
     "metadata": {},
     "output_type": "execute_result"
    },
    {
     "data": {
      "text/plain": [
       "Timestamp('2020-06-27 00:00:00')"
      ]
     },
     "execution_count": 8,
     "metadata": {},
     "output_type": "execute_result"
    }
   ],
   "source": [
    "#max date is now a valid date (June 27, 2020)\n",
    "#min date unchanged \n",
    "min(df['dateRep'])\n",
    "max(df['dateRep'])"
   ]
  },
  {
   "cell_type": "code",
   "execution_count": null,
   "metadata": {},
   "outputs": [],
   "source": []
  },
  {
   "cell_type": "markdown",
   "metadata": {},
   "source": [
    "**Identify Missing Data**"
   ]
  },
  {
   "cell_type": "code",
   "execution_count": 9,
   "metadata": {},
   "outputs": [
    {
     "data": {
      "text/plain": [
       "dateRep                    26144\n",
       "day                        26144\n",
       "month                      26144\n",
       "year                       26144\n",
       "cases                      26144\n",
       "deaths                     26144\n",
       "countriesAndTerritories    26144\n",
       "geoId                      26039\n",
       "countryterritoryCode       26080\n",
       "popData2019                26080\n",
       "continentExp               26144\n",
       "dtype: int64"
      ]
     },
     "execution_count": 9,
     "metadata": {},
     "output_type": "execute_result"
    }
   ],
   "source": [
    "df.count()"
   ]
  },
  {
   "cell_type": "code",
   "execution_count": 10,
   "metadata": {},
   "outputs": [
    {
     "data": {
      "text/plain": [
       "233"
      ]
     },
     "execution_count": 10,
     "metadata": {},
     "output_type": "execute_result"
    }
   ],
   "source": [
    "#how many blanks\n",
    "df.isnull().sum().sum()"
   ]
  },
  {
   "cell_type": "code",
   "execution_count": 11,
   "metadata": {
    "scrolled": true
   },
   "outputs": [
    {
     "data": {
      "text/plain": [
       "(array([0. , 0.2, 0.4, 0.6, 0.8, 1. ]),\n",
       " <a list of 6 Text major ticklabel objects>)"
      ]
     },
     "execution_count": 11,
     "metadata": {},
     "output_type": "execute_result"
    },
    {
     "data": {
      "text/plain": [
       "<matplotlib.axes._subplots.AxesSubplot at 0x7fcad7171bb0>"
      ]
     },
     "execution_count": 11,
     "metadata": {},
     "output_type": "execute_result"
    },
    {
     "data": {
      "text/plain": [
       "Text(0.5, 1.0, 'Percent Missing Data by Feature')"
      ]
     },
     "execution_count": 11,
     "metadata": {},
     "output_type": "execute_result"
    },
    {
     "data": {
      "text/plain": [
       "Text(0.5, 0, 'Features')"
      ]
     },
     "execution_count": 11,
     "metadata": {},
     "output_type": "execute_result"
    },
    {
     "data": {
      "text/plain": [
       "Text(0, 0.5, 'Percent of Missing Values')"
      ]
     },
     "execution_count": 11,
     "metadata": {},
     "output_type": "execute_result"
    },
    {
     "data": {
      "text/html": [
       "<div>\n",
       "<style scoped>\n",
       "    .dataframe tbody tr th:only-of-type {\n",
       "        vertical-align: middle;\n",
       "    }\n",
       "\n",
       "    .dataframe tbody tr th {\n",
       "        vertical-align: top;\n",
       "    }\n",
       "\n",
       "    .dataframe thead th {\n",
       "        text-align: right;\n",
       "    }\n",
       "</style>\n",
       "<table border=\"1\" class=\"dataframe\">\n",
       "  <thead>\n",
       "    <tr style=\"text-align: right;\">\n",
       "      <th></th>\n",
       "      <th>Total</th>\n",
       "      <th>Percent</th>\n",
       "    </tr>\n",
       "  </thead>\n",
       "  <tbody>\n",
       "    <tr>\n",
       "      <th>geoId</th>\n",
       "      <td>105</td>\n",
       "      <td>0.004016</td>\n",
       "    </tr>\n",
       "    <tr>\n",
       "      <th>popData2019</th>\n",
       "      <td>64</td>\n",
       "      <td>0.002448</td>\n",
       "    </tr>\n",
       "    <tr>\n",
       "      <th>countryterritoryCode</th>\n",
       "      <td>64</td>\n",
       "      <td>0.002448</td>\n",
       "    </tr>\n",
       "    <tr>\n",
       "      <th>continentExp</th>\n",
       "      <td>0</td>\n",
       "      <td>0.000000</td>\n",
       "    </tr>\n",
       "    <tr>\n",
       "      <th>countriesAndTerritories</th>\n",
       "      <td>0</td>\n",
       "      <td>0.000000</td>\n",
       "    </tr>\n",
       "    <tr>\n",
       "      <th>deaths</th>\n",
       "      <td>0</td>\n",
       "      <td>0.000000</td>\n",
       "    </tr>\n",
       "    <tr>\n",
       "      <th>cases</th>\n",
       "      <td>0</td>\n",
       "      <td>0.000000</td>\n",
       "    </tr>\n",
       "    <tr>\n",
       "      <th>year</th>\n",
       "      <td>0</td>\n",
       "      <td>0.000000</td>\n",
       "    </tr>\n",
       "    <tr>\n",
       "      <th>month</th>\n",
       "      <td>0</td>\n",
       "      <td>0.000000</td>\n",
       "    </tr>\n",
       "    <tr>\n",
       "      <th>day</th>\n",
       "      <td>0</td>\n",
       "      <td>0.000000</td>\n",
       "    </tr>\n",
       "    <tr>\n",
       "      <th>dateRep</th>\n",
       "      <td>0</td>\n",
       "      <td>0.000000</td>\n",
       "    </tr>\n",
       "  </tbody>\n",
       "</table>\n",
       "</div>"
      ],
      "text/plain": [
       "                         Total   Percent\n",
       "geoId                      105  0.004016\n",
       "popData2019                 64  0.002448\n",
       "countryterritoryCode        64  0.002448\n",
       "continentExp                 0  0.000000\n",
       "countriesAndTerritories      0  0.000000\n",
       "deaths                       0  0.000000\n",
       "cases                        0  0.000000\n",
       "year                         0  0.000000\n",
       "month                        0  0.000000\n",
       "day                          0  0.000000\n",
       "dateRep                      0  0.000000"
      ]
     },
     "execution_count": 11,
     "metadata": {},
     "output_type": "execute_result"
    },
    {
     "data": {
      "image/png": "[encoded data removed]",
      "text/plain": [
       "<Figure size 1080x432 with 1 Axes>"
      ]
     },
     "metadata": {
      "needs_background": "light"
     },
     "output_type": "display_data"
    }
   ],
   "source": [
    "total = df.isnull().sum().sort_values(ascending=False)\n",
    "\n",
    "percent = (df.isnull().sum()/df.isnull().count()).sort_values(ascending=False)\n",
    "\n",
    "missing_data = pd.concat([total, percent], axis=1, keys=['Total', 'Percent'])\n",
    "\n",
    "f, ax = plt.subplots(figsize=(15, 6))\n",
    "\n",
    "plt.xticks(rotation='90')\n",
    "\n",
    "sns.barplot(x=missing_data.index, \n",
    "            y=missing_data['Percent'])\n",
    "\n",
    "#plt title\n",
    "plt.title('Percent Missing Data by Feature', fontsize=12)\n",
    "\n",
    "#plt x y labels\n",
    "plt.xlabel('Features', fontsize=12)\n",
    "plt.ylabel('Percent of Missing Values', fontsize=12)\n",
    "\n",
    "#Missing Data\n",
    "missing_data"
   ]
  },
  {
   "cell_type": "markdown",
   "metadata": {},
   "source": [
    "**Drop Columns**"
   ]
  },
  {
   "cell_type": "code",
   "execution_count": 12,
   "metadata": {},
   "outputs": [],
   "source": [
    "#Drop Columns (geoId, countryterritoryCode)\n",
    "df.drop(['geoId','countryterritoryCode'], axis = 1, inplace=True)"
   ]
  },
  {
   "cell_type": "markdown",
   "metadata": {},
   "source": [
    "**Confirm Consistency of popData2019 (because data is in 1NF)**"
   ]
  },
  {
   "cell_type": "code",
   "execution_count": 13,
   "metadata": {},
   "outputs": [],
   "source": [
    "mytable = df.groupby(['countriesAndTerritories','popData2019','continentExp']).size().sort_values(ascending=False)\n",
    "\n",
    "mytable.drop_duplicates(inplace=True)"
   ]
  },
  {
   "cell_type": "code",
   "execution_count": 14,
   "metadata": {},
   "outputs": [
    {
     "name": "stdout",
     "output_type": "stream",
     "text": [
      "DataFrame is empty\n"
     ]
    }
   ],
   "source": [
    "duplicatedrowsDF = mytable[mytable.duplicated()]\n",
    "\n",
    "#duplicatedrowsDF should be empty (means there are no instances of countries having varying popData2019 values)\n",
    "if duplicatedrowsDF.empty == True:\n",
    "    print('DataFrame is empty')\n",
    "else: \n",
    "    print('DataFrame is not empty. Please review duplicatedrowsDF')"
   ]
  },
  {
   "cell_type": "markdown",
   "metadata": {},
   "source": [
    "**Cleaned Data**"
   ]
  },
  {
   "cell_type": "code",
   "execution_count": 15,
   "metadata": {},
   "outputs": [
    {
     "data": {
      "text/html": [
       "<div>\n",
       "<style scoped>\n",
       "    .dataframe tbody tr th:only-of-type {\n",
       "        vertical-align: middle;\n",
       "    }\n",
       "\n",
       "    .dataframe tbody tr th {\n",
       "        vertical-align: top;\n",
       "    }\n",
       "\n",
       "    .dataframe thead th {\n",
       "        text-align: right;\n",
       "    }\n",
       "</style>\n",
       "<table border=\"1\" class=\"dataframe\">\n",
       "  <thead>\n",
       "    <tr style=\"text-align: right;\">\n",
       "      <th></th>\n",
       "      <th>dateRep</th>\n",
       "      <th>day</th>\n",
       "      <th>month</th>\n",
       "      <th>year</th>\n",
       "      <th>cases</th>\n",
       "      <th>deaths</th>\n",
       "      <th>countriesAndTerritories</th>\n",
       "      <th>popData2019</th>\n",
       "      <th>continentExp</th>\n",
       "    </tr>\n",
       "  </thead>\n",
       "  <tbody>\n",
       "    <tr>\n",
       "      <th>0</th>\n",
       "      <td>2020-06-27</td>\n",
       "      <td>27</td>\n",
       "      <td>6</td>\n",
       "      <td>2020</td>\n",
       "      <td>276</td>\n",
       "      <td>8</td>\n",
       "      <td>Afghanistan</td>\n",
       "      <td>38041757.0</td>\n",
       "      <td>Asia</td>\n",
       "    </tr>\n",
       "    <tr>\n",
       "      <th>1</th>\n",
       "      <td>2020-06-26</td>\n",
       "      <td>26</td>\n",
       "      <td>6</td>\n",
       "      <td>2020</td>\n",
       "      <td>460</td>\n",
       "      <td>36</td>\n",
       "      <td>Afghanistan</td>\n",
       "      <td>38041757.0</td>\n",
       "      <td>Asia</td>\n",
       "    </tr>\n",
       "    <tr>\n",
       "      <th>2</th>\n",
       "      <td>2020-06-25</td>\n",
       "      <td>25</td>\n",
       "      <td>6</td>\n",
       "      <td>2020</td>\n",
       "      <td>234</td>\n",
       "      <td>21</td>\n",
       "      <td>Afghanistan</td>\n",
       "      <td>38041757.0</td>\n",
       "      <td>Asia</td>\n",
       "    </tr>\n",
       "    <tr>\n",
       "      <th>3</th>\n",
       "      <td>2020-06-24</td>\n",
       "      <td>24</td>\n",
       "      <td>6</td>\n",
       "      <td>2020</td>\n",
       "      <td>338</td>\n",
       "      <td>20</td>\n",
       "      <td>Afghanistan</td>\n",
       "      <td>38041757.0</td>\n",
       "      <td>Asia</td>\n",
       "    </tr>\n",
       "    <tr>\n",
       "      <th>4</th>\n",
       "      <td>2020-06-23</td>\n",
       "      <td>23</td>\n",
       "      <td>6</td>\n",
       "      <td>2020</td>\n",
       "      <td>310</td>\n",
       "      <td>17</td>\n",
       "      <td>Afghanistan</td>\n",
       "      <td>38041757.0</td>\n",
       "      <td>Asia</td>\n",
       "    </tr>\n",
       "  </tbody>\n",
       "</table>\n",
       "</div>"
      ],
      "text/plain": [
       "     dateRep  day  month  year  cases  deaths countriesAndTerritories  \\\n",
       "0 2020-06-27   27      6  2020    276       8             Afghanistan   \n",
       "1 2020-06-26   26      6  2020    460      36             Afghanistan   \n",
       "2 2020-06-25   25      6  2020    234      21             Afghanistan   \n",
       "3 2020-06-24   24      6  2020    338      20             Afghanistan   \n",
       "4 2020-06-23   23      6  2020    310      17             Afghanistan   \n",
       "\n",
       "   popData2019 continentExp  \n",
       "0   38041757.0         Asia  \n",
       "1   38041757.0         Asia  \n",
       "2   38041757.0         Asia  \n",
       "3   38041757.0         Asia  \n",
       "4   38041757.0         Asia  "
      ]
     },
     "execution_count": 15,
     "metadata": {},
     "output_type": "execute_result"
    }
   ],
   "source": [
    "#Cleaned data\n",
    "df2 = df.copy()\n",
    "df2.head()"
   ]
  },
  {
   "cell_type": "code",
   "execution_count": 16,
   "metadata": {},
   "outputs": [
    {
     "data": {
      "text/html": [
       "<div>\n",
       "<style scoped>\n",
       "    .dataframe tbody tr th:only-of-type {\n",
       "        vertical-align: middle;\n",
       "    }\n",
       "\n",
       "    .dataframe tbody tr th {\n",
       "        vertical-align: top;\n",
       "    }\n",
       "\n",
       "    .dataframe thead th {\n",
       "        text-align: right;\n",
       "    }\n",
       "</style>\n",
       "<table border=\"1\" class=\"dataframe\">\n",
       "  <thead>\n",
       "    <tr style=\"text-align: right;\">\n",
       "      <th></th>\n",
       "      <th>countriesAndTerritories</th>\n",
       "      <th>popData2019</th>\n",
       "      <th>continentExp</th>\n",
       "    </tr>\n",
       "  </thead>\n",
       "  <tbody>\n",
       "    <tr>\n",
       "      <th>0</th>\n",
       "      <td>Afghanistan</td>\n",
       "      <td>38041757.0</td>\n",
       "      <td>Asia</td>\n",
       "    </tr>\n",
       "    <tr>\n",
       "      <th>170</th>\n",
       "      <td>Albania</td>\n",
       "      <td>2862427.0</td>\n",
       "      <td>Europe</td>\n",
       "    </tr>\n",
       "    <tr>\n",
       "      <th>281</th>\n",
       "      <td>Algeria</td>\n",
       "      <td>43053054.0</td>\n",
       "      <td>Africa</td>\n",
       "    </tr>\n",
       "    <tr>\n",
       "      <th>456</th>\n",
       "      <td>Andorra</td>\n",
       "      <td>76177.0</td>\n",
       "      <td>Europe</td>\n",
       "    </tr>\n",
       "    <tr>\n",
       "      <th>562</th>\n",
       "      <td>Angola</td>\n",
       "      <td>31825299.0</td>\n",
       "      <td>Africa</td>\n",
       "    </tr>\n",
       "  </tbody>\n",
       "</table>\n",
       "</div>"
      ],
      "text/plain": [
       "    countriesAndTerritories  popData2019 continentExp\n",
       "0               Afghanistan   38041757.0         Asia\n",
       "170                 Albania    2862427.0       Europe\n",
       "281                 Algeria   43053054.0       Africa\n",
       "456                 Andorra      76177.0       Europe\n",
       "562                  Angola   31825299.0       Africa"
      ]
     },
     "execution_count": 16,
     "metadata": {},
     "output_type": "execute_result"
    }
   ],
   "source": [
    "#countryinfo\n",
    "#contains country name, population, and continent\n",
    "countryinfo = df2.copy()\n",
    "countryinfo.drop(['dateRep','day','month','year','deaths','cases'], axis = 1, inplace=True)\n",
    "countryinfo.drop_duplicates(keep='first',inplace=True)\n",
    "countryinfo.head()"
   ]
  },
  {
   "cell_type": "code",
   "execution_count": null,
   "metadata": {},
   "outputs": [],
   "source": []
  },
  {
   "cell_type": "markdown",
   "metadata": {},
   "source": [
    "### Data Exploration, Visualization, Scaling, and Comparisons"
   ]
  },
  {
   "cell_type": "code",
   "execution_count": 17,
   "metadata": {},
   "outputs": [
    {
     "name": "stdout",
     "output_type": "stream",
     "text": [
      "Total cases equals 9,770,954\n",
      "Total deaths equals 493,898\n"
     ]
    }
   ],
   "source": [
    "#Total Cases\n",
    "print('Total cases equals','{:,}'.format(df2['cases'].sum()))\n",
    "\n",
    "#Total Deaths\n",
    "print('Total deaths equals','{:,}'.format(df2['deaths'].sum()))"
   ]
  },
  {
   "cell_type": "code",
   "execution_count": 18,
   "metadata": {},
   "outputs": [],
   "source": [
    "#Country and Date\n",
    "CountryCaseDeathByDate = df2.groupby(['countriesAndTerritories','dateRep']).sum()\n",
    "\n",
    "#Drop Columns\n",
    "CountryCaseDeathByDate.drop(['popData2019'], axis = 1, inplace=True)"
   ]
  },
  {
   "cell_type": "code",
   "execution_count": 19,
   "metadata": {},
   "outputs": [],
   "source": [
    "#Total Cases and Deaths by Country\n",
    "TotCountryCases = df2['cases'].groupby(df2['countriesAndTerritories']).sum().sort_values(ascending=False)\n",
    "TotCountryDeaths = df2['deaths'].groupby(df2['countriesAndTerritories']).sum().sort_values(ascending=False)\n",
    "\n",
    "#pd.DataFrame\n",
    "CountryByDate = pd.DataFrame(CountryCaseDeathByDate).reset_index()\n",
    "CountryCases = pd.DataFrame(TotCountryCases, columns = ['cases']).reset_index()\n",
    "CountryDeaths = pd.DataFrame(TotCountryDeaths, columns = ['deaths']).reset_index()"
   ]
  },
  {
   "cell_type": "code",
   "execution_count": 20,
   "metadata": {
    "scrolled": true
   },
   "outputs": [
    {
     "name": "stdout",
     "output_type": "stream",
     "text": [
      "CountryByDate (Useful for observing cases and deaths over time)\n"
     ]
    }
   ],
   "source": [
    "#Can use this dataframe to observe cases and deaths over time\n",
    "print(\"CountryByDate (Useful for observing cases and deaths over time)\")\n",
    "\n",
    "#Pandas groupby cumulative sum\n",
    "CountryByDate['cases_cumulative'] = CountryByDate.groupby(['countriesAndTerritories'])['cases'].apply(lambda x: x.cumsum())\n",
    "CountryByDate['deaths_cumulative'] = CountryByDate.groupby(['countriesAndTerritories'])['deaths'].apply(lambda x: x.cumsum())\n",
    "\n",
    "#Join Country Info\n",
    "CountryCaseDeathInfo = pd.merge(left=CountryByDate,\n",
    "              right = countryinfo,\n",
    "              how='left',\n",
    "              left_on='countriesAndTerritories',\n",
    "              right_on='countriesAndTerritories')\n"
   ]
  },
  {
   "cell_type": "code",
   "execution_count": 21,
   "metadata": {},
   "outputs": [
    {
     "name": "stdout",
     "output_type": "stream",
     "text": [
      "df3 observes cases, deaths, and fatality rate over time for each country\n"
     ]
    },
    {
     "data": {
      "text/html": [
       "<div>\n",
       "<style scoped>\n",
       "    .dataframe tbody tr th:only-of-type {\n",
       "        vertical-align: middle;\n",
       "    }\n",
       "\n",
       "    .dataframe tbody tr th {\n",
       "        vertical-align: top;\n",
       "    }\n",
       "\n",
       "    .dataframe thead th {\n",
       "        text-align: right;\n",
       "    }\n",
       "</style>\n",
       "<table border=\"1\" class=\"dataframe\">\n",
       "  <thead>\n",
       "    <tr style=\"text-align: right;\">\n",
       "      <th></th>\n",
       "      <th>countriesAndTerritories</th>\n",
       "      <th>continentExp</th>\n",
       "      <th>dateRep</th>\n",
       "      <th>day</th>\n",
       "      <th>month</th>\n",
       "      <th>year</th>\n",
       "      <th>popData2019</th>\n",
       "      <th>cases</th>\n",
       "      <th>deaths</th>\n",
       "      <th>cases_cumulative</th>\n",
       "      <th>deaths_cumulative</th>\n",
       "      <th>fatalityRate</th>\n",
       "      <th>casesPerMillion</th>\n",
       "      <th>deathsPerMillion</th>\n",
       "      <th>fatalityRatePerMillion</th>\n",
       "    </tr>\n",
       "  </thead>\n",
       "  <tbody>\n",
       "    <tr>\n",
       "      <th>0</th>\n",
       "      <td>Afghanistan</td>\n",
       "      <td>Asia</td>\n",
       "      <td>2019-12-31</td>\n",
       "      <td>31</td>\n",
       "      <td>12</td>\n",
       "      <td>2019</td>\n",
       "      <td>38041757.0</td>\n",
       "      <td>0</td>\n",
       "      <td>0</td>\n",
       "      <td>0</td>\n",
       "      <td>0</td>\n",
       "      <td>0.000000</td>\n",
       "      <td>0.000000</td>\n",
       "      <td>0.000000</td>\n",
       "      <td>0.000000</td>\n",
       "    </tr>\n",
       "    <tr>\n",
       "      <th>1</th>\n",
       "      <td>Afghanistan</td>\n",
       "      <td>Asia</td>\n",
       "      <td>2020-01-01</td>\n",
       "      <td>1</td>\n",
       "      <td>1</td>\n",
       "      <td>2020</td>\n",
       "      <td>38041757.0</td>\n",
       "      <td>0</td>\n",
       "      <td>0</td>\n",
       "      <td>0</td>\n",
       "      <td>0</td>\n",
       "      <td>0.000000</td>\n",
       "      <td>0.000000</td>\n",
       "      <td>0.000000</td>\n",
       "      <td>0.000000</td>\n",
       "    </tr>\n",
       "    <tr>\n",
       "      <th>2</th>\n",
       "      <td>Afghanistan</td>\n",
       "      <td>Asia</td>\n",
       "      <td>2020-01-02</td>\n",
       "      <td>2</td>\n",
       "      <td>1</td>\n",
       "      <td>2020</td>\n",
       "      <td>38041757.0</td>\n",
       "      <td>0</td>\n",
       "      <td>0</td>\n",
       "      <td>0</td>\n",
       "      <td>0</td>\n",
       "      <td>0.000000</td>\n",
       "      <td>0.000000</td>\n",
       "      <td>0.000000</td>\n",
       "      <td>0.000000</td>\n",
       "    </tr>\n",
       "    <tr>\n",
       "      <th>3</th>\n",
       "      <td>Afghanistan</td>\n",
       "      <td>Asia</td>\n",
       "      <td>2020-01-03</td>\n",
       "      <td>3</td>\n",
       "      <td>1</td>\n",
       "      <td>2020</td>\n",
       "      <td>38041757.0</td>\n",
       "      <td>0</td>\n",
       "      <td>0</td>\n",
       "      <td>0</td>\n",
       "      <td>0</td>\n",
       "      <td>0.000000</td>\n",
       "      <td>0.000000</td>\n",
       "      <td>0.000000</td>\n",
       "      <td>0.000000</td>\n",
       "    </tr>\n",
       "    <tr>\n",
       "      <th>4</th>\n",
       "      <td>Afghanistan</td>\n",
       "      <td>Asia</td>\n",
       "      <td>2020-01-04</td>\n",
       "      <td>4</td>\n",
       "      <td>1</td>\n",
       "      <td>2020</td>\n",
       "      <td>38041757.0</td>\n",
       "      <td>0</td>\n",
       "      <td>0</td>\n",
       "      <td>0</td>\n",
       "      <td>0</td>\n",
       "      <td>0.000000</td>\n",
       "      <td>0.000000</td>\n",
       "      <td>0.000000</td>\n",
       "      <td>0.000000</td>\n",
       "    </tr>\n",
       "    <tr>\n",
       "      <th>...</th>\n",
       "      <td>...</td>\n",
       "      <td>...</td>\n",
       "      <td>...</td>\n",
       "      <td>...</td>\n",
       "      <td>...</td>\n",
       "      <td>...</td>\n",
       "      <td>...</td>\n",
       "      <td>...</td>\n",
       "      <td>...</td>\n",
       "      <td>...</td>\n",
       "      <td>...</td>\n",
       "      <td>...</td>\n",
       "      <td>...</td>\n",
       "      <td>...</td>\n",
       "      <td>...</td>\n",
       "    </tr>\n",
       "    <tr>\n",
       "      <th>26139</th>\n",
       "      <td>Zimbabwe</td>\n",
       "      <td>Africa</td>\n",
       "      <td>2020-06-23</td>\n",
       "      <td>23</td>\n",
       "      <td>6</td>\n",
       "      <td>2020</td>\n",
       "      <td>14645473.0</td>\n",
       "      <td>23</td>\n",
       "      <td>0</td>\n",
       "      <td>512</td>\n",
       "      <td>6</td>\n",
       "      <td>0.011719</td>\n",
       "      <td>34.959608</td>\n",
       "      <td>0.409683</td>\n",
       "      <td>0.011719</td>\n",
       "    </tr>\n",
       "    <tr>\n",
       "      <th>26140</th>\n",
       "      <td>Zimbabwe</td>\n",
       "      <td>Africa</td>\n",
       "      <td>2020-06-24</td>\n",
       "      <td>24</td>\n",
       "      <td>6</td>\n",
       "      <td>2020</td>\n",
       "      <td>14645473.0</td>\n",
       "      <td>13</td>\n",
       "      <td>0</td>\n",
       "      <td>525</td>\n",
       "      <td>6</td>\n",
       "      <td>0.011429</td>\n",
       "      <td>35.847255</td>\n",
       "      <td>0.409683</td>\n",
       "      <td>0.011429</td>\n",
       "    </tr>\n",
       "    <tr>\n",
       "      <th>26141</th>\n",
       "      <td>Zimbabwe</td>\n",
       "      <td>Africa</td>\n",
       "      <td>2020-06-25</td>\n",
       "      <td>25</td>\n",
       "      <td>6</td>\n",
       "      <td>2020</td>\n",
       "      <td>14645473.0</td>\n",
       "      <td>5</td>\n",
       "      <td>0</td>\n",
       "      <td>530</td>\n",
       "      <td>6</td>\n",
       "      <td>0.011321</td>\n",
       "      <td>36.188657</td>\n",
       "      <td>0.409683</td>\n",
       "      <td>0.011321</td>\n",
       "    </tr>\n",
       "    <tr>\n",
       "      <th>26142</th>\n",
       "      <td>Zimbabwe</td>\n",
       "      <td>Africa</td>\n",
       "      <td>2020-06-26</td>\n",
       "      <td>26</td>\n",
       "      <td>6</td>\n",
       "      <td>2020</td>\n",
       "      <td>14645473.0</td>\n",
       "      <td>21</td>\n",
       "      <td>0</td>\n",
       "      <td>551</td>\n",
       "      <td>6</td>\n",
       "      <td>0.010889</td>\n",
       "      <td>37.622547</td>\n",
       "      <td>0.409683</td>\n",
       "      <td>0.010889</td>\n",
       "    </tr>\n",
       "    <tr>\n",
       "      <th>26143</th>\n",
       "      <td>Zimbabwe</td>\n",
       "      <td>Africa</td>\n",
       "      <td>2020-06-27</td>\n",
       "      <td>27</td>\n",
       "      <td>6</td>\n",
       "      <td>2020</td>\n",
       "      <td>14645473.0</td>\n",
       "      <td>10</td>\n",
       "      <td>0</td>\n",
       "      <td>561</td>\n",
       "      <td>6</td>\n",
       "      <td>0.010695</td>\n",
       "      <td>38.305352</td>\n",
       "      <td>0.409683</td>\n",
       "      <td>0.010695</td>\n",
       "    </tr>\n",
       "  </tbody>\n",
       "</table>\n",
       "<p>26144 rows × 15 columns</p>\n",
       "</div>"
      ],
      "text/plain": [
       "      countriesAndTerritories continentExp    dateRep  day  month  year  \\\n",
       "0                 Afghanistan         Asia 2019-12-31   31     12  2019   \n",
       "1                 Afghanistan         Asia 2020-01-01    1      1  2020   \n",
       "2                 Afghanistan         Asia 2020-01-02    2      1  2020   \n",
       "3                 Afghanistan         Asia 2020-01-03    3      1  2020   \n",
       "4                 Afghanistan         Asia 2020-01-04    4      1  2020   \n",
       "...                       ...          ...        ...  ...    ...   ...   \n",
       "26139                Zimbabwe       Africa 2020-06-23   23      6  2020   \n",
       "26140                Zimbabwe       Africa 2020-06-24   24      6  2020   \n",
       "26141                Zimbabwe       Africa 2020-06-25   25      6  2020   \n",
       "26142                Zimbabwe       Africa 2020-06-26   26      6  2020   \n",
       "26143                Zimbabwe       Africa 2020-06-27   27      6  2020   \n",
       "\n",
       "       popData2019  cases  deaths  cases_cumulative  deaths_cumulative  \\\n",
       "0       38041757.0      0       0                 0                  0   \n",
       "1       38041757.0      0       0                 0                  0   \n",
       "2       38041757.0      0       0                 0                  0   \n",
       "3       38041757.0      0       0                 0                  0   \n",
       "4       38041757.0      0       0                 0                  0   \n",
       "...            ...    ...     ...               ...                ...   \n",
       "26139   14645473.0     23       0               512                  6   \n",
       "26140   14645473.0     13       0               525                  6   \n",
       "26141   14645473.0      5       0               530                  6   \n",
       "26142   14645473.0     21       0               551                  6   \n",
       "26143   14645473.0     10       0               561                  6   \n",
       "\n",
       "       fatalityRate  casesPerMillion  deathsPerMillion  fatalityRatePerMillion  \n",
       "0          0.000000         0.000000          0.000000                0.000000  \n",
       "1          0.000000         0.000000          0.000000                0.000000  \n",
       "2          0.000000         0.000000          0.000000                0.000000  \n",
       "3          0.000000         0.000000          0.000000                0.000000  \n",
       "4          0.000000         0.000000          0.000000                0.000000  \n",
       "...             ...              ...               ...                     ...  \n",
       "26139      0.011719        34.959608          0.409683                0.011719  \n",
       "26140      0.011429        35.847255          0.409683                0.011429  \n",
       "26141      0.011321        36.188657          0.409683                0.011321  \n",
       "26142      0.010889        37.622547          0.409683                0.010889  \n",
       "26143      0.010695        38.305352          0.409683                0.010695  \n",
       "\n",
       "[26144 rows x 15 columns]"
      ]
     },
     "execution_count": 21,
     "metadata": {},
     "output_type": "execute_result"
    }
   ],
   "source": [
    "#df3\n",
    "\n",
    "print(\"df3 observes cases, deaths, and fatality rate over time for each country\")\n",
    "\n",
    "#column_order for df3\n",
    "column_order = ['countriesAndTerritories','continentExp', 'dateRep', 'day','month','year','popData2019','cases','deaths','cases_cumulative','deaths_cumulative']\n",
    "\n",
    "#Create df3\n",
    "df3 = CountryCaseDeathInfo.reindex(column_order, axis=1)\n",
    "\n",
    "#fatalityRate = Death/Cases (percentage)\n",
    "df3['fatalityRate'] = df3['deaths_cumulative']/df3['cases_cumulative']\n",
    "\n",
    "#rates per million in the population\n",
    "df3['casesPerMillion'] = df3['cases_cumulative']*1000000/df3['popData2019']\n",
    "df3['deathsPerMillion'] = df3['deaths_cumulative']*1000000/df3['popData2019']\n",
    "df3['fatalityRatePerMillion'] = df3['deathsPerMillion']/df3['casesPerMillion']\n",
    "\n",
    "#fill NaN with zero because fatality rates are dividng zero numbers for early stages\n",
    "df3.fillna(0)"
   ]
  },
  {
   "cell_type": "code",
   "execution_count": 22,
   "metadata": {
    "scrolled": true
   },
   "outputs": [
    {
     "data": {
      "text/plain": [
       "(208, 13)"
      ]
     },
     "execution_count": 22,
     "metadata": {},
     "output_type": "execute_result"
    }
   ],
   "source": [
    "#df4 = current totals (as of 2020-06-27)\n",
    "df4 = (df3[df3['dateRep']=='2020-06-27']).sort_values(by = 'cases_cumulative', ascending=False)\n",
    "\n",
    "#Drop Columns (geoId, countryterritoryCode)\n",
    "df4.drop(['cases','deaths'], axis = 1, inplace=True)\n",
    "\n",
    "df4.shape"
   ]
  },
  {
   "cell_type": "code",
   "execution_count": 23,
   "metadata": {
    "scrolled": true
   },
   "outputs": [
    {
     "data": {
      "text/html": [
       "<div>\n",
       "<style scoped>\n",
       "    .dataframe tbody tr th:only-of-type {\n",
       "        vertical-align: middle;\n",
       "    }\n",
       "\n",
       "    .dataframe tbody tr th {\n",
       "        vertical-align: top;\n",
       "    }\n",
       "\n",
       "    .dataframe thead th {\n",
       "        text-align: right;\n",
       "    }\n",
       "</style>\n",
       "<table border=\"1\" class=\"dataframe\">\n",
       "  <thead>\n",
       "    <tr style=\"text-align: right;\">\n",
       "      <th></th>\n",
       "      <th>countriesAndTerritories</th>\n",
       "      <th>dateRep</th>\n",
       "      <th>continentExp</th>\n",
       "      <th>day</th>\n",
       "      <th>month</th>\n",
       "      <th>year</th>\n",
       "      <th>popData2019</th>\n",
       "      <th>cases</th>\n",
       "      <th>deaths</th>\n",
       "      <th>cases_cumulative</th>\n",
       "      <th>deaths_cumulative</th>\n",
       "      <th>fatalityRate</th>\n",
       "      <th>casesPerMillion</th>\n",
       "      <th>deathsPerMillion</th>\n",
       "      <th>fatalityRatePerMillion</th>\n",
       "    </tr>\n",
       "  </thead>\n",
       "  <tbody>\n",
       "    <tr>\n",
       "      <th>0</th>\n",
       "      <td>Cases_on_an_international_conveyance_Japan</td>\n",
       "      <td>2020-03-10</td>\n",
       "      <td>Other</td>\n",
       "      <td>10</td>\n",
       "      <td>3</td>\n",
       "      <td>2020</td>\n",
       "      <td>0.0</td>\n",
       "      <td>-9</td>\n",
       "      <td>1</td>\n",
       "      <td>696</td>\n",
       "      <td>7</td>\n",
       "      <td>0.010057</td>\n",
       "      <td>0.000000</td>\n",
       "      <td>0.000000</td>\n",
       "      <td>0.00000</td>\n",
       "    </tr>\n",
       "    <tr>\n",
       "      <th>1</th>\n",
       "      <td>Spain</td>\n",
       "      <td>2020-06-26</td>\n",
       "      <td>Europe</td>\n",
       "      <td>26</td>\n",
       "      <td>6</td>\n",
       "      <td>2020</td>\n",
       "      <td>46937060.0</td>\n",
       "      <td>419</td>\n",
       "      <td>8</td>\n",
       "      <td>247905</td>\n",
       "      <td>28338</td>\n",
       "      <td>0.114310</td>\n",
       "      <td>5281.647381</td>\n",
       "      <td>603.744674</td>\n",
       "      <td>0.11431</td>\n",
       "    </tr>\n",
       "  </tbody>\n",
       "</table>\n",
       "</div>"
      ],
      "text/plain": [
       "                      countriesAndTerritories    dateRep continentExp  day  \\\n",
       "0  Cases_on_an_international_conveyance_Japan 2020-03-10        Other   10   \n",
       "1                                       Spain 2020-06-26       Europe   26   \n",
       "\n",
       "   month  year  popData2019  cases  deaths  cases_cumulative  \\\n",
       "0      3  2020          0.0     -9       1               696   \n",
       "1      6  2020   46937060.0    419       8            247905   \n",
       "\n",
       "   deaths_cumulative  fatalityRate  casesPerMillion  deathsPerMillion  \\\n",
       "0                  7      0.010057         0.000000          0.000000   \n",
       "1              28338      0.114310      5281.647381        603.744674   \n",
       "\n",
       "   fatalityRatePerMillion  \n",
       "0                 0.00000  \n",
       "1                 0.11431  "
      ]
     },
     "execution_count": 23,
     "metadata": {},
     "output_type": "execute_result"
    },
    {
     "name": "stdout",
     "output_type": "stream",
     "text": [
      "df4 is now complete and contains the most up-to-date cumulative data\n"
     ]
    },
    {
     "data": {
      "text/html": [
       "<div>\n",
       "<style scoped>\n",
       "    .dataframe tbody tr th:only-of-type {\n",
       "        vertical-align: middle;\n",
       "    }\n",
       "\n",
       "    .dataframe tbody tr th {\n",
       "        vertical-align: top;\n",
       "    }\n",
       "\n",
       "    .dataframe thead th {\n",
       "        text-align: right;\n",
       "    }\n",
       "</style>\n",
       "<table border=\"1\" class=\"dataframe\">\n",
       "  <thead>\n",
       "    <tr style=\"text-align: right;\">\n",
       "      <th></th>\n",
       "      <th>countriesAndTerritories</th>\n",
       "      <th>continentExp</th>\n",
       "      <th>dateRep</th>\n",
       "      <th>day</th>\n",
       "      <th>month</th>\n",
       "      <th>year</th>\n",
       "      <th>popData2019</th>\n",
       "      <th>cases_cumulative</th>\n",
       "      <th>deaths_cumulative</th>\n",
       "      <th>fatalityRate</th>\n",
       "      <th>casesPerMillion</th>\n",
       "      <th>deathsPerMillion</th>\n",
       "      <th>fatalityRatePerMillion</th>\n",
       "    </tr>\n",
       "  </thead>\n",
       "  <tbody>\n",
       "    <tr>\n",
       "      <th>0</th>\n",
       "      <td>United_States_of_America</td>\n",
       "      <td>America</td>\n",
       "      <td>2020-06-27</td>\n",
       "      <td>27</td>\n",
       "      <td>6</td>\n",
       "      <td>2020</td>\n",
       "      <td>3.290649e+08</td>\n",
       "      <td>2467837</td>\n",
       "      <td>125039</td>\n",
       "      <td>0.050667</td>\n",
       "      <td>7499.544535</td>\n",
       "      <td>379.982774</td>\n",
       "      <td>0.050667</td>\n",
       "    </tr>\n",
       "    <tr>\n",
       "      <th>1</th>\n",
       "      <td>Brazil</td>\n",
       "      <td>America</td>\n",
       "      <td>2020-06-27</td>\n",
       "      <td>27</td>\n",
       "      <td>6</td>\n",
       "      <td>2020</td>\n",
       "      <td>2.110495e+08</td>\n",
       "      <td>1274974</td>\n",
       "      <td>55961</td>\n",
       "      <td>0.043892</td>\n",
       "      <td>6041.113034</td>\n",
       "      <td>265.155781</td>\n",
       "      <td>0.043892</td>\n",
       "    </tr>\n",
       "    <tr>\n",
       "      <th>2</th>\n",
       "      <td>Russia</td>\n",
       "      <td>Europe</td>\n",
       "      <td>2020-06-27</td>\n",
       "      <td>27</td>\n",
       "      <td>6</td>\n",
       "      <td>2020</td>\n",
       "      <td>1.458723e+08</td>\n",
       "      <td>620794</td>\n",
       "      <td>8781</td>\n",
       "      <td>0.014145</td>\n",
       "      <td>4255.737177</td>\n",
       "      <td>60.196503</td>\n",
       "      <td>0.014145</td>\n",
       "    </tr>\n",
       "    <tr>\n",
       "      <th>3</th>\n",
       "      <td>India</td>\n",
       "      <td>Asia</td>\n",
       "      <td>2020-06-27</td>\n",
       "      <td>27</td>\n",
       "      <td>6</td>\n",
       "      <td>2020</td>\n",
       "      <td>1.366418e+09</td>\n",
       "      <td>508953</td>\n",
       "      <td>15685</td>\n",
       "      <td>0.030818</td>\n",
       "      <td>372.472472</td>\n",
       "      <td>11.478920</td>\n",
       "      <td>0.030818</td>\n",
       "    </tr>\n",
       "    <tr>\n",
       "      <th>4</th>\n",
       "      <td>United_Kingdom</td>\n",
       "      <td>Europe</td>\n",
       "      <td>2020-06-27</td>\n",
       "      <td>27</td>\n",
       "      <td>6</td>\n",
       "      <td>2020</td>\n",
       "      <td>6.664711e+07</td>\n",
       "      <td>309360</td>\n",
       "      <td>43414</td>\n",
       "      <td>0.140335</td>\n",
       "      <td>4641.761521</td>\n",
       "      <td>651.401069</td>\n",
       "      <td>0.140335</td>\n",
       "    </tr>\n",
       "    <tr>\n",
       "      <th>...</th>\n",
       "      <td>...</td>\n",
       "      <td>...</td>\n",
       "      <td>...</td>\n",
       "      <td>...</td>\n",
       "      <td>...</td>\n",
       "      <td>...</td>\n",
       "      <td>...</td>\n",
       "      <td>...</td>\n",
       "      <td>...</td>\n",
       "      <td>...</td>\n",
       "      <td>...</td>\n",
       "      <td>...</td>\n",
       "      <td>...</td>\n",
       "    </tr>\n",
       "    <tr>\n",
       "      <th>203</th>\n",
       "      <td>Montserrat</td>\n",
       "      <td>America</td>\n",
       "      <td>2020-06-27</td>\n",
       "      <td>27</td>\n",
       "      <td>6</td>\n",
       "      <td>2020</td>\n",
       "      <td>4.991000e+03</td>\n",
       "      <td>11</td>\n",
       "      <td>1</td>\n",
       "      <td>0.090909</td>\n",
       "      <td>2203.967141</td>\n",
       "      <td>200.360649</td>\n",
       "      <td>0.090909</td>\n",
       "    </tr>\n",
       "    <tr>\n",
       "      <th>204</th>\n",
       "      <td>Seychelles</td>\n",
       "      <td>Africa</td>\n",
       "      <td>2020-06-27</td>\n",
       "      <td>27</td>\n",
       "      <td>6</td>\n",
       "      <td>2020</td>\n",
       "      <td>9.774100e+04</td>\n",
       "      <td>11</td>\n",
       "      <td>0</td>\n",
       "      <td>0.000000</td>\n",
       "      <td>112.542331</td>\n",
       "      <td>0.000000</td>\n",
       "      <td>0.000000</td>\n",
       "    </tr>\n",
       "    <tr>\n",
       "      <th>205</th>\n",
       "      <td>British_Virgin_Islands</td>\n",
       "      <td>America</td>\n",
       "      <td>2020-06-27</td>\n",
       "      <td>27</td>\n",
       "      <td>6</td>\n",
       "      <td>2020</td>\n",
       "      <td>3.003300e+04</td>\n",
       "      <td>8</td>\n",
       "      <td>1</td>\n",
       "      <td>0.125000</td>\n",
       "      <td>266.373656</td>\n",
       "      <td>33.296707</td>\n",
       "      <td>0.125000</td>\n",
       "    </tr>\n",
       "    <tr>\n",
       "      <th>206</th>\n",
       "      <td>Bonaire, Saint Eustatius and Saba</td>\n",
       "      <td>America</td>\n",
       "      <td>2020-06-27</td>\n",
       "      <td>27</td>\n",
       "      <td>6</td>\n",
       "      <td>2020</td>\n",
       "      <td>2.598300e+04</td>\n",
       "      <td>7</td>\n",
       "      <td>0</td>\n",
       "      <td>0.000000</td>\n",
       "      <td>269.406920</td>\n",
       "      <td>0.000000</td>\n",
       "      <td>0.000000</td>\n",
       "    </tr>\n",
       "    <tr>\n",
       "      <th>207</th>\n",
       "      <td>Anguilla</td>\n",
       "      <td>America</td>\n",
       "      <td>2020-06-27</td>\n",
       "      <td>27</td>\n",
       "      <td>6</td>\n",
       "      <td>2020</td>\n",
       "      <td>1.487200e+04</td>\n",
       "      <td>3</td>\n",
       "      <td>0</td>\n",
       "      <td>0.000000</td>\n",
       "      <td>201.721356</td>\n",
       "      <td>0.000000</td>\n",
       "      <td>0.000000</td>\n",
       "    </tr>\n",
       "  </tbody>\n",
       "</table>\n",
       "<p>210 rows × 13 columns</p>\n",
       "</div>"
      ],
      "text/plain": [
       "               countriesAndTerritories continentExp    dateRep  day  month  \\\n",
       "0             United_States_of_America      America 2020-06-27   27      6   \n",
       "1                               Brazil      America 2020-06-27   27      6   \n",
       "2                               Russia       Europe 2020-06-27   27      6   \n",
       "3                                India         Asia 2020-06-27   27      6   \n",
       "4                       United_Kingdom       Europe 2020-06-27   27      6   \n",
       "..                                 ...          ...        ...  ...    ...   \n",
       "203                         Montserrat      America 2020-06-27   27      6   \n",
       "204                         Seychelles       Africa 2020-06-27   27      6   \n",
       "205             British_Virgin_Islands      America 2020-06-27   27      6   \n",
       "206  Bonaire, Saint Eustatius and Saba      America 2020-06-27   27      6   \n",
       "207                           Anguilla      America 2020-06-27   27      6   \n",
       "\n",
       "     year   popData2019  cases_cumulative  deaths_cumulative  fatalityRate  \\\n",
       "0    2020  3.290649e+08           2467837             125039      0.050667   \n",
       "1    2020  2.110495e+08           1274974              55961      0.043892   \n",
       "2    2020  1.458723e+08            620794               8781      0.014145   \n",
       "3    2020  1.366418e+09            508953              15685      0.030818   \n",
       "4    2020  6.664711e+07            309360              43414      0.140335   \n",
       "..    ...           ...               ...                ...           ...   \n",
       "203  2020  4.991000e+03                11                  1      0.090909   \n",
       "204  2020  9.774100e+04                11                  0      0.000000   \n",
       "205  2020  3.003300e+04                 8                  1      0.125000   \n",
       "206  2020  2.598300e+04                 7                  0      0.000000   \n",
       "207  2020  1.487200e+04                 3                  0      0.000000   \n",
       "\n",
       "     casesPerMillion  deathsPerMillion  fatalityRatePerMillion  \n",
       "0        7499.544535        379.982774                0.050667  \n",
       "1        6041.113034        265.155781                0.043892  \n",
       "2        4255.737177         60.196503                0.014145  \n",
       "3         372.472472         11.478920                0.030818  \n",
       "4        4641.761521        651.401069                0.140335  \n",
       "..               ...               ...                     ...  \n",
       "203      2203.967141        200.360649                0.090909  \n",
       "204       112.542331          0.000000                0.000000  \n",
       "205       266.373656         33.296707                0.125000  \n",
       "206       269.406920          0.000000                0.000000  \n",
       "207       201.721356          0.000000                0.000000  \n",
       "\n",
       "[210 rows x 13 columns]"
      ]
     },
     "execution_count": 23,
     "metadata": {},
     "output_type": "execute_result"
    }
   ],
   "source": [
    "#Noticed that 2 countries are missing\n",
    "#Will need to append most recent data to df4 for full set of most recent data\n",
    "\n",
    "#Need to find max date in df3 for missing countries\n",
    "maxdate = df3[['countriesAndTerritories','dateRep']].copy()\n",
    "maxdate2 = maxdate[maxdate['dateRep'] == maxdate.groupby('countriesAndTerritories')['dateRep'].transform('max')] \n",
    "maxdate2 = maxdate2[maxdate2['dateRep'] != (max(df3['dateRep']))]\n",
    "\n",
    "#Left join df3 \n",
    "outdated = pd.merge(left=maxdate2,\n",
    "              right = df3,\n",
    "              how='inner',\n",
    "              left_on=['countriesAndTerritories','dateRep'],\n",
    "              right_on=['countriesAndTerritories','dateRep'])\n",
    "\n",
    "outdated.fillna(0)\n",
    "\n",
    "outdated.drop(['cases','deaths'], axis = 1, inplace=True)\n",
    "\n",
    "#Append outdated to df4\n",
    "#Sort values by cases_cumulative descending order\n",
    "\n",
    "print(\"df4 is now complete and contains the most up-to-date cumulative data\")\n",
    "df4.append(outdated, ignore_index=True).sort_values(by = 'cases_cumulative', ascending=False).fillna(0)"
   ]
  },
  {
   "cell_type": "markdown",
   "metadata": {},
   "source": [
    "**Top 15 Countries by Cumulative Cases as of 2020-06-27**"
   ]
  },
  {
   "cell_type": "code",
   "execution_count": 24,
   "metadata": {},
   "outputs": [],
   "source": [
    "#create dataframe to show top 15 countries based on total cases as of 2020/06/27\n",
    "Top15_cases_cumulative = (df4.iloc[0:15]).reset_index()\n",
    "Top15_cases_cumulative.index += 1"
   ]
  },
  {
   "cell_type": "code",
   "execution_count": 25,
   "metadata": {},
   "outputs": [
    {
     "name": "stdout",
     "output_type": "stream",
     "text": [
      "As we can see, the United States of America is leading the world in cumulative confirmed cases by a significant amount.\n"
     ]
    },
    {
     "data": {
      "text/plain": [
       "<matplotlib.axes._subplots.AxesSubplot at 0x7fcad7382100>"
      ]
     },
     "execution_count": 25,
     "metadata": {},
     "output_type": "execute_result"
    },
    {
     "data": {
      "text/plain": [
       "<matplotlib.axes._subplots.AxesSubplot at 0x7fcad7382100>"
      ]
     },
     "execution_count": 25,
     "metadata": {},
     "output_type": "execute_result"
    },
    {
     "data": {
      "text/plain": [
       "<matplotlib.legend.Legend at 0x7fcad7347a00>"
      ]
     },
     "execution_count": 25,
     "metadata": {},
     "output_type": "execute_result"
    },
    {
     "data": {
      "text/plain": [
       "[Text(0, 0.5, ''),\n",
       " (0.0, 2800000.0),\n",
       " Text(0.5, 0, 'Top 15 Countries by Total Cases')]"
      ]
     },
     "execution_count": 25,
     "metadata": {},
     "output_type": "execute_result"
    },
    {
     "data": {
      "image/png": "[encoded data removed]",
      "text/plain": [
       "<Figure size 1152x648 with 1 Axes>"
      ]
     },
     "metadata": {},
     "output_type": "display_data"
    }
   ],
   "source": [
    "#seaborn horizontal bar plot for Top15_cases_cumulative\n",
    "#displays cases_cumulative and deaths_cumulative\n",
    "\n",
    "print(\"As we can see, the United States of America is leading the world in cumulative confirmed cases by a significant amount.\")\n",
    "\n",
    "sns.set(style=\"darkgrid\")\n",
    "\n",
    "#initialize matplotlib figure\n",
    "f, ax = plt.subplots(nrows=1, ncols=1,figsize=(16,9))\n",
    "\n",
    "#plot cases_cumulative\n",
    "sns.set_color_codes(\"pastel\")\n",
    "\n",
    "sns.barplot(x=\"cases_cumulative\", y=\"countriesAndTerritories\", data = Top15_cases_cumulative,\n",
    "            label=\"cases_cumulative\", color=\"b\")\n",
    "\n",
    "# plot deaths_cumulative\n",
    "sns.set_color_codes(\"muted\")\n",
    "sns.barplot(x=\"deaths_cumulative\", y=\"countriesAndTerritories\", data=Top15_cases_cumulative,\n",
    "            label=\"deaths_cumulative\", color=\"b\")\n",
    "\n",
    "# Add a legend and informative axis label\n",
    "ax.legend(ncol=2, loc=\"lower right\", frameon=True)\n",
    "\n",
    "plt.ticklabel_format(style='plain', axis='x')\n",
    "\n",
    "ax.set(xlim=(0, 2800000), ylabel=\"\",\n",
    "       xlabel=\"Top 15 Countries by Total Cases\")\n",
    "\n",
    "sns.despine(left=True, bottom=True)"
   ]
  },
  {
   "cell_type": "code",
   "execution_count": null,
   "metadata": {},
   "outputs": [],
   "source": []
  },
  {
   "cell_type": "markdown",
   "metadata": {},
   "source": [
    "**Top 15 Countries by fatalityRatePerMillion as of 2020-06-27**"
   ]
  },
  {
   "cell_type": "code",
   "execution_count": 26,
   "metadata": {},
   "outputs": [
    {
     "name": "stdout",
     "output_type": "stream",
     "text": [
      "Top15_Deadliest sorts countries by fatality rate per million people. To qualify for this list, I chose countries with casesPerMillion and cases_cumulative greater than that of the dataset's median values.\n"
     ]
    },
    {
     "data": {
      "text/html": [
       "<div>\n",
       "<style scoped>\n",
       "    .dataframe tbody tr th:only-of-type {\n",
       "        vertical-align: middle;\n",
       "    }\n",
       "\n",
       "    .dataframe tbody tr th {\n",
       "        vertical-align: top;\n",
       "    }\n",
       "\n",
       "    .dataframe thead th {\n",
       "        text-align: right;\n",
       "    }\n",
       "</style>\n",
       "<table border=\"1\" class=\"dataframe\">\n",
       "  <thead>\n",
       "    <tr style=\"text-align: right;\">\n",
       "      <th></th>\n",
       "      <th>index</th>\n",
       "      <th>countriesAndTerritories</th>\n",
       "      <th>continentExp</th>\n",
       "      <th>dateRep</th>\n",
       "      <th>day</th>\n",
       "      <th>month</th>\n",
       "      <th>year</th>\n",
       "      <th>popData2019</th>\n",
       "      <th>cases_cumulative</th>\n",
       "      <th>deaths_cumulative</th>\n",
       "      <th>fatalityRate</th>\n",
       "      <th>casesPerMillion</th>\n",
       "      <th>deathsPerMillion</th>\n",
       "      <th>fatalityRatePerMillion</th>\n",
       "    </tr>\n",
       "  </thead>\n",
       "  <tbody>\n",
       "    <tr>\n",
       "      <th>0</th>\n",
       "      <td>8799</td>\n",
       "      <td>France</td>\n",
       "      <td>Europe</td>\n",
       "      <td>2020-06-27</td>\n",
       "      <td>27</td>\n",
       "      <td>6</td>\n",
       "      <td>2020</td>\n",
       "      <td>67012883.0</td>\n",
       "      <td>162936</td>\n",
       "      <td>29778</td>\n",
       "      <td>0.182759</td>\n",
       "      <td>2431.413076</td>\n",
       "      <td>444.362318</td>\n",
       "      <td>0.182759</td>\n",
       "    </tr>\n",
       "    <tr>\n",
       "      <th>1</th>\n",
       "      <td>2606</td>\n",
       "      <td>Belgium</td>\n",
       "      <td>Europe</td>\n",
       "      <td>2020-06-27</td>\n",
       "      <td>27</td>\n",
       "      <td>6</td>\n",
       "      <td>2020</td>\n",
       "      <td>11455519.0</td>\n",
       "      <td>61106</td>\n",
       "      <td>9731</td>\n",
       "      <td>0.159248</td>\n",
       "      <td>5334.197429</td>\n",
       "      <td>849.459549</td>\n",
       "      <td>0.159248</td>\n",
       "    </tr>\n",
       "    <tr>\n",
       "      <th>2</th>\n",
       "      <td>12604</td>\n",
       "      <td>Italy</td>\n",
       "      <td>Europe</td>\n",
       "      <td>2020-06-27</td>\n",
       "      <td>27</td>\n",
       "      <td>6</td>\n",
       "      <td>2020</td>\n",
       "      <td>60359546.0</td>\n",
       "      <td>239961</td>\n",
       "      <td>34708</td>\n",
       "      <td>0.144640</td>\n",
       "      <td>3975.526920</td>\n",
       "      <td>575.020892</td>\n",
       "      <td>0.144640</td>\n",
       "    </tr>\n",
       "    <tr>\n",
       "      <th>3</th>\n",
       "      <td>24934</td>\n",
       "      <td>United_Kingdom</td>\n",
       "      <td>Europe</td>\n",
       "      <td>2020-06-27</td>\n",
       "      <td>27</td>\n",
       "      <td>6</td>\n",
       "      <td>2020</td>\n",
       "      <td>66647112.0</td>\n",
       "      <td>309360</td>\n",
       "      <td>43414</td>\n",
       "      <td>0.140335</td>\n",
       "      <td>4641.761521</td>\n",
       "      <td>651.401069</td>\n",
       "      <td>0.140335</td>\n",
       "    </tr>\n",
       "    <tr>\n",
       "      <th>4</th>\n",
       "      <td>15828</td>\n",
       "      <td>Mexico</td>\n",
       "      <td>America</td>\n",
       "      <td>2020-06-27</td>\n",
       "      <td>27</td>\n",
       "      <td>6</td>\n",
       "      <td>2020</td>\n",
       "      <td>127575529.0</td>\n",
       "      <td>208392</td>\n",
       "      <td>25779</td>\n",
       "      <td>0.123704</td>\n",
       "      <td>1633.479411</td>\n",
       "      <td>202.068533</td>\n",
       "      <td>0.123704</td>\n",
       "    </tr>\n",
       "  </tbody>\n",
       "</table>\n",
       "</div>"
      ],
      "text/plain": [
       "   index countriesAndTerritories continentExp    dateRep  day  month  year  \\\n",
       "0   8799                  France       Europe 2020-06-27   27      6  2020   \n",
       "1   2606                 Belgium       Europe 2020-06-27   27      6  2020   \n",
       "2  12604                   Italy       Europe 2020-06-27   27      6  2020   \n",
       "3  24934          United_Kingdom       Europe 2020-06-27   27      6  2020   \n",
       "4  15828                  Mexico      America 2020-06-27   27      6  2020   \n",
       "\n",
       "   popData2019  cases_cumulative  deaths_cumulative  fatalityRate  \\\n",
       "0   67012883.0            162936              29778      0.182759   \n",
       "1   11455519.0             61106               9731      0.159248   \n",
       "2   60359546.0            239961              34708      0.144640   \n",
       "3   66647112.0            309360              43414      0.140335   \n",
       "4  127575529.0            208392              25779      0.123704   \n",
       "\n",
       "   casesPerMillion  deathsPerMillion  fatalityRatePerMillion  \n",
       "0      2431.413076        444.362318                0.182759  \n",
       "1      5334.197429        849.459549                0.159248  \n",
       "2      3975.526920        575.020892                0.144640  \n",
       "3      4641.761521        651.401069                0.140335  \n",
       "4      1633.479411        202.068533                0.123704  "
      ]
     },
     "execution_count": 26,
     "metadata": {},
     "output_type": "execute_result"
    }
   ],
   "source": [
    "print(\"Top15_Deadliest sorts countries by fatality rate per million people. To qualify for this list, I chose countries with casesPerMillion and cases_cumulative greater than that of the dataset's median values.\")\n",
    "\n",
    "#sort by fatality rate per million\n",
    "Top15_fatalityRatePerMillion = df4.copy().sort_values(by = 'fatalityRatePerMillion', ascending=False)\n",
    "\n",
    "#filter for countries with casesPerMillion greater than the median \n",
    "#filter for countries with cases_cumulative greater than median \n",
    "Top15_Deadliest = Top15_fatalityRatePerMillion[(Top15_fatalityRatePerMillion['casesPerMillion'] > \n",
    "                             Top15_fatalityRatePerMillion['casesPerMillion'].median()) & \n",
    "                             (Top15_fatalityRatePerMillion['cases_cumulative'] > \n",
    "                             Top15_fatalityRatePerMillion['cases_cumulative'].median())\n",
    "                              ].iloc[0:15].reset_index()\n",
    "\n",
    "#Top15_Deadliest\n",
    "Top15_Deadliest.index+=1\n",
    "Top15_Deadliest['fatalityRatePerMillion'] = round(Top15_Deadliest['fatalityRatePerMillion']*100,2)"
   ]
  },
  {
   "cell_type": "code",
   "execution_count": 27,
   "metadata": {},
   "outputs": [
    {
     "name": "stdout",
     "output_type": "stream",
     "text": [
      "Based on this visualization, we can observe that COVID-19 has been very deadly in countries such as France, Belgium, and Italy.\n"
     ]
    },
    {
     "data": {
      "text/plain": [
       "<matplotlib.axes._subplots.AxesSubplot at 0x7fcad6d59ac0>"
      ]
     },
     "execution_count": 27,
     "metadata": {},
     "output_type": "execute_result"
    },
    {
     "data": {
      "text/plain": [
       "<matplotlib.legend.Legend at 0x7fcad7347940>"
      ]
     },
     "execution_count": 27,
     "metadata": {},
     "output_type": "execute_result"
    },
    {
     "data": {
      "text/plain": [
       "[Text(0, 0.5, ''), (0.0, 20.0), Text(0.5, 0, 'Top 15 Deadliest Countries (%)')]"
      ]
     },
     "execution_count": 27,
     "metadata": {},
     "output_type": "execute_result"
    },
    {
     "data": {
      "image/png": "[encoded data removed]",
      "text/plain": [
       "<Figure size 1152x648 with 1 Axes>"
      ]
     },
     "metadata": {},
     "output_type": "display_data"
    }
   ],
   "source": [
    "#seaborn horizontal bar plot for Top15_cases_cumulative\n",
    "#displays fatalityRatePerMillion\n",
    "\n",
    "print(\"Based on this visualization, we can observe that COVID-19 has been very deadly in countries such as France, Belgium, and Italy.\")\n",
    "\n",
    "sns.set(style=\"darkgrid\")\n",
    "\n",
    "#initialize matplotlib figure\n",
    "f, ax = plt.subplots(nrows=1, ncols=1,figsize=(16,9))\n",
    "\n",
    "#plot cases_cumulative\n",
    "sns.set_color_codes(\"pastel\")\n",
    "\n",
    "sns.barplot(x=\"fatalityRatePerMillion\", y=\"countriesAndTerritories\", data = Top15_Deadliest,\n",
    "            label=\"fatalityRatePerMillion\", color=\"r\")\n",
    "\n",
    "# Add a legend and informative axis label\n",
    "ax.legend(ncol=2, loc=\"lower right\", frameon=True)\n",
    "\n",
    "ax.set(xlim=(0, 20), ylabel=\"\",\n",
    "       xlabel=\"Top 15 Deadliest Countries (%)\")\n",
    "\n",
    "sns.despine(left=True, bottom=True)"
   ]
  },
  {
   "cell_type": "markdown",
   "metadata": {},
   "source": [
    "Countries that are Top 15 in cases_cumulative and fatalityRatePerMillion"
   ]
  },
  {
   "cell_type": "code",
   "execution_count": 28,
   "metadata": {},
   "outputs": [
    {
     "data": {
      "text/plain": [
       "1     United_States_of_America\n",
       "5               United_Kingdom\n",
       "8                        Italy\n",
       "10                      Mexico\n",
       "15                      France\n",
       "Name: countriesAndTerritories, dtype: object"
      ]
     },
     "execution_count": 28,
     "metadata": {},
     "output_type": "execute_result"
    }
   ],
   "source": [
    "d1 = Top15_cases_cumulative['countriesAndTerritories']\n",
    "d2 = Top15_Deadliest['countriesAndTerritories']\n",
    "\n",
    "d1[d1.isin(d2)]\n"
   ]
  },
  {
   "cell_type": "markdown",
   "metadata": {},
   "source": [
    "**Time Series**"
   ]
  },
  {
   "cell_type": "code",
   "execution_count": 29,
   "metadata": {},
   "outputs": [
    {
     "data": {
      "text/html": [
       "<div>\n",
       "<style scoped>\n",
       "    .dataframe tbody tr th:only-of-type {\n",
       "        vertical-align: middle;\n",
       "    }\n",
       "\n",
       "    .dataframe tbody tr th {\n",
       "        vertical-align: top;\n",
       "    }\n",
       "\n",
       "    .dataframe thead th {\n",
       "        text-align: right;\n",
       "    }\n",
       "</style>\n",
       "<table border=\"1\" class=\"dataframe\">\n",
       "  <thead>\n",
       "    <tr style=\"text-align: right;\">\n",
       "      <th></th>\n",
       "      <th>cases_cumulative</th>\n",
       "      <th>deaths_cumulative</th>\n",
       "    </tr>\n",
       "    <tr>\n",
       "      <th>dateRep</th>\n",
       "      <th></th>\n",
       "      <th></th>\n",
       "    </tr>\n",
       "  </thead>\n",
       "  <tbody>\n",
       "    <tr>\n",
       "      <th>2020-06-23</th>\n",
       "      <td>9063078</td>\n",
       "      <td>471701</td>\n",
       "    </tr>\n",
       "    <tr>\n",
       "      <th>2020-06-24</th>\n",
       "      <td>9228877</td>\n",
       "      <td>477278</td>\n",
       "    </tr>\n",
       "    <tr>\n",
       "      <th>2020-06-25</th>\n",
       "      <td>9400114</td>\n",
       "      <td>482472</td>\n",
       "    </tr>\n",
       "    <tr>\n",
       "      <th>2020-06-26</th>\n",
       "      <td>9581625</td>\n",
       "      <td>489188</td>\n",
       "    </tr>\n",
       "    <tr>\n",
       "      <th>2020-06-27</th>\n",
       "      <td>9522353</td>\n",
       "      <td>465553</td>\n",
       "    </tr>\n",
       "  </tbody>\n",
       "</table>\n",
       "</div>"
      ],
      "text/plain": [
       "            cases_cumulative  deaths_cumulative\n",
       "dateRep                                        \n",
       "2020-06-23           9063078             471701\n",
       "2020-06-24           9228877             477278\n",
       "2020-06-25           9400114             482472\n",
       "2020-06-26           9581625             489188\n",
       "2020-06-27           9522353             465553"
      ]
     },
     "execution_count": 29,
     "metadata": {},
     "output_type": "execute_result"
    }
   ],
   "source": [
    "df_timeseries = df3.fillna(0).copy()\n",
    "temp_ts = df_timeseries.groupby(df_timeseries['dateRep']).sum()\n",
    "temp_ts.drop(['day','month','year','popData2019','cases','deaths',\n",
    "              'fatalityRate','casesPerMillion','deathsPerMillion',\n",
    "              'fatalityRate','casesPerMillion','deathsPerMillion',\n",
    "              'fatalityRatePerMillion'], axis = 1, inplace=True)\n",
    "temp_ts.tail()"
   ]
  },
  {
   "cell_type": "code",
   "execution_count": 30,
   "metadata": {},
   "outputs": [
    {
     "data": {
      "text/plain": [
       "<matplotlib.axes._subplots.AxesSubplot at 0x7fcad7716640>"
      ]
     },
     "execution_count": 30,
     "metadata": {},
     "output_type": "execute_result"
    },
    {
     "data": {
      "text/plain": [
       "[(0.0, 10000000.0),\n",
       " Text(0, 0.5, ''),\n",
       " Text(0.5, 0, 'World Cases and Deaths ~ Date')]"
      ]
     },
     "execution_count": 30,
     "metadata": {},
     "output_type": "execute_result"
    },
    {
     "data": {
      "image/png": "[encoded data removed]",
      "text/plain": [
       "<Figure size 1152x648 with 1 Axes>"
      ]
     },
     "metadata": {},
     "output_type": "display_data"
    }
   ],
   "source": [
    "#World Cases and Deaths Timeseries \n",
    "f, ax = plt.subplots(nrows=1, ncols=1,figsize=(16,9))\n",
    "\n",
    "sns.lineplot(data = temp_ts,\n",
    "            style=\"event\",\n",
    "            markers=False,\n",
    "            dashes=False)\n",
    "\n",
    "plt.ticklabel_format(style='plain', axis='y')\n",
    "\n",
    "ax.set(ylim=(0, 10000000), ylabel=\"\",\n",
    "       xlabel=\"World Cases and Deaths ~ Date\")\n",
    "\n",
    "sns.despine(left=True, bottom=True)"
   ]
  },
  {
   "cell_type": "code",
   "execution_count": 31,
   "metadata": {},
   "outputs": [],
   "source": [
    "#what are the management and analytical questions associated with this problem? "
   ]
  },
  {
   "cell_type": "markdown",
   "metadata": {},
   "source": [
    "**Min-Max and Standard Scaling**"
   ]
  },
  {
   "cell_type": "markdown",
   "metadata": {},
   "source": [
    "Select one variable and perform min-max and standard scaling in python "
   ]
  },
  {
   "cell_type": "raw",
   "metadata": {},
   "source": [
    "StandardScaler removes the mean and scales the data to unit variance. However, the outliers have an influence when computing the empirical mean and standard deviation which shrink the range of the feature values as shown in the left figure below. Note in particular that because the outliers on each feature have different magnitudes, the spread of the transformed data on each feature is very different: most of the data lie in the [-2, 4] range for the transformed median income feature while the same data is squeezed in the smaller [-0.2, 0.2] range for the transformed number of households.\n",
    "\n",
    "StandardScaler therefore cannot guarantee balanced feature scales in the presence of outliers."
   ]
  },
  {
   "cell_type": "raw",
   "metadata": {},
   "source": [
    "MinMaxScaler rescales the data set such that all feature values are in the range [0, 1] as shown in the right panel below. However, this scaling compress all inliers in the narrow range [0, 0.005] for the transformed number of households.\n",
    "\n",
    "As StandardScaler, MinMaxScaler is very sensitive to the presence of outliers."
   ]
  },
  {
   "cell_type": "code",
   "execution_count": 32,
   "metadata": {
    "scrolled": true
   },
   "outputs": [
    {
     "data": {
      "text/html": [
       "<div>\n",
       "<style scoped>\n",
       "    .dataframe tbody tr th:only-of-type {\n",
       "        vertical-align: middle;\n",
       "    }\n",
       "\n",
       "    .dataframe tbody tr th {\n",
       "        vertical-align: top;\n",
       "    }\n",
       "\n",
       "    .dataframe thead th {\n",
       "        text-align: right;\n",
       "    }\n",
       "</style>\n",
       "<table border=\"1\" class=\"dataframe\">\n",
       "  <thead>\n",
       "    <tr style=\"text-align: right;\">\n",
       "      <th></th>\n",
       "      <th>countriesAndTerritories</th>\n",
       "      <th>cases_cumulative</th>\n",
       "      <th>fatalityRate</th>\n",
       "    </tr>\n",
       "  </thead>\n",
       "  <tbody>\n",
       "    <tr>\n",
       "      <th>25312</th>\n",
       "      <td>United_States_of_America</td>\n",
       "      <td>2467837</td>\n",
       "      <td>0.050667</td>\n",
       "    </tr>\n",
       "  </tbody>\n",
       "</table>\n",
       "</div>"
      ],
      "text/plain": [
       "        countriesAndTerritories  cases_cumulative  fatalityRate\n",
       "25312  United_States_of_America           2467837      0.050667"
      ]
     },
     "execution_count": 32,
     "metadata": {},
     "output_type": "execute_result"
    }
   ],
   "source": [
    "df5 = df4[['countriesAndTerritories','cases_cumulative','fatalityRate']]\n",
    "df5.head(1)"
   ]
  },
  {
   "cell_type": "raw",
   "metadata": {},
   "source": [
    "Standard Scaling"
   ]
  },
  {
   "cell_type": "code",
   "execution_count": 33,
   "metadata": {},
   "outputs": [
    {
     "name": "stdout",
     "output_type": "stream",
     "text": [
      "                  0             1\n",
      "count  2.080000e+02  2.080000e+02\n",
      "mean   3.416071e-17  1.366428e-16\n",
      "std    1.002413e+00  1.002413e+00\n",
      "min   -2.250853e-01 -8.801417e-01\n",
      "25%   -2.238500e-01 -6.654777e-01\n",
      "50%   -2.152293e-01 -2.886388e-01\n",
      "75%   -1.446098e-01  3.301454e-01\n",
      "max    1.190910e+01  6.237844e+00\n"
     ]
    },
    {
     "data": {
      "text/plain": [
       "array([[<matplotlib.axes._subplots.AxesSubplot object at 0x7fcad776d3d0>,\n",
       "        <matplotlib.axes._subplots.AxesSubplot object at 0x7fcad9577880>]],\n",
       "      dtype=object)"
      ]
     },
     "execution_count": 33,
     "metadata": {},
     "output_type": "execute_result"
    },
    {
     "data": {
      "image/png": "[encoded data removed]",
      "text/plain": [
       "<Figure size 432x288 with 2 Axes>"
      ]
     },
     "metadata": {},
     "output_type": "display_data"
    }
   ],
   "source": [
    "#Perform Standard Scaling\n",
    "\n",
    "df6 = df5[['cases_cumulative','fatalityRate']]\n",
    "\n",
    "data = df6.to_numpy()\n",
    "\n",
    "# define standard scaler\n",
    "scaler = StandardScaler()\n",
    "\n",
    "# transform data\n",
    "scaled = scaler.fit_transform(data)\n",
    "dataset1 = pd.DataFrame(scaled)\n",
    "\n",
    "print(dataset1.describe())\n",
    "\n",
    "dataset1.hist()\n",
    "plt.show()"
   ]
  },
  {
   "cell_type": "raw",
   "metadata": {},
   "source": [
    "Min-Max Scaling"
   ]
  },
  {
   "cell_type": "code",
   "execution_count": 34,
   "metadata": {
    "scrolled": true
   },
   "outputs": [
    {
     "name": "stdout",
     "output_type": "stream",
     "text": [
      "                0           1\n",
      "count  208.000000  208.000000\n",
      "mean     0.018550    0.123650\n",
      "std      0.082611    0.140828\n",
      "min      0.000000    0.000000\n",
      "25%      0.000102    0.030158\n",
      "50%      0.000812    0.083100\n",
      "75%      0.006632    0.170032\n",
      "max      1.000000    1.000000\n"
     ]
    },
    {
     "data": {
      "text/plain": [
       "array([[<matplotlib.axes._subplots.AxesSubplot object at 0x7fcad961b5b0>,\n",
       "        <matplotlib.axes._subplots.AxesSubplot object at 0x7fcad8211f70>]],\n",
       "      dtype=object)"
      ]
     },
     "execution_count": 34,
     "metadata": {},
     "output_type": "execute_result"
    },
    {
     "data": {
      "image/png": "[encoded data removed]",
      "text/plain": [
       "<Figure size 432x288 with 2 Axes>"
      ]
     },
     "metadata": {},
     "output_type": "display_data"
    }
   ],
   "source": [
    "#Perform Min-Max Scaling\n",
    "\n",
    "trans = MinMaxScaler()\n",
    "\n",
    "data2 = trans.fit_transform(data)\n",
    "\n",
    "dataset2 = pd.DataFrame(data2)\n",
    "\n",
    "print(dataset2.describe())\n",
    "\n",
    "dataset2.hist()\n",
    "plt.show()"
   ]
  },
  {
   "cell_type": "code",
   "execution_count": null,
   "metadata": {},
   "outputs": [],
   "source": []
  },
  {
   "cell_type": "code",
   "execution_count": null,
   "metadata": {},
   "outputs": [],
   "source": []
  },
  {
   "cell_type": "raw",
   "metadata": {},
   "source": [
    "Example Code: (DNU)"
   ]
  },
  {
   "cell_type": "code",
   "execution_count": 35,
   "metadata": {},
   "outputs": [
    {
     "name": "stdout",
     "output_type": "stream",
     "text": [
      "Automatically created module for IPython interactive environment\n"
     ]
    }
   ],
   "source": [
    "from sklearn.datasets import fetch_california_housing\n",
    "\n",
    "print(__doc__)\n",
    "\n",
    "dataset = fetch_california_housing()\n",
    "X_full, y_full = dataset.data, dataset.target\n",
    "\n",
    "# Take only 2 features to make visualization easier\n",
    "# Feature of 0 has a long tail distribution.\n",
    "# Feature 5 has a few but very large outliers.\n",
    "\n",
    "X = X_full[:, [0, 5]]\n",
    "\n",
    "distributions = [\n",
    "    ('Unscaled data', X),\n",
    "    ('Data after standard scaling',\n",
    "        StandardScaler().fit_transform(X)),\n",
    "    ('Data after min-max scaling',\n",
    "        MinMaxScaler().fit_transform(X)),\n",
    "    ('Data after max-abs scaling',\n",
    "        MaxAbsScaler().fit_transform(X)),\n",
    "    ('Data after robust scaling',\n",
    "        RobustScaler(quantile_range=(25, 75)).fit_transform(X)),\n",
    "    ('Data after power transformation (Yeo-Johnson)',\n",
    "     PowerTransformer(method='yeo-johnson').fit_transform(X)),\n",
    "    ('Data after power transformation (Box-Cox)',\n",
    "     PowerTransformer(method='box-cox').fit_transform(X)),\n",
    "    ('Data after quantile transformation (gaussian pdf)',\n",
    "        QuantileTransformer(output_distribution='normal')\n",
    "        .fit_transform(X)),\n",
    "    ('Data after quantile transformation (uniform pdf)',\n",
    "        QuantileTransformer(output_distribution='uniform')\n",
    "        .fit_transform(X)),\n",
    "    ('Data after sample-wise L2 normalizing',\n",
    "        Normalizer().fit_transform(X)),\n",
    "]\n",
    "\n",
    "# scale the output between 0 and 1 for the colorbar\n",
    "y = minmax_scale(y_full)\n",
    "\n",
    "# plasma does not exist in matplotlib < 1.5\n",
    "cmap = getattr(cm, 'plasma_r', cm.hot_r)\n",
    "\n",
    "def create_axes(title, figsize=(16, 6)):\n",
    "    fig = plt.figure(figsize=figsize)\n",
    "    fig.suptitle(title)\n",
    "\n",
    "    # define the axis for the first plot\n",
    "    left, width = 0.1, 0.22\n",
    "    bottom, height = 0.1, 0.7\n",
    "    bottom_h = height + 0.15\n",
    "    left_h = left + width + 0.02\n",
    "\n",
    "    rect_scatter = [left, bottom, width, height]\n",
    "    rect_histx = [left, bottom_h, width, 0.1]\n",
    "    rect_histy = [left_h, bottom, 0.05, height]\n",
    "\n",
    "    ax_scatter = plt.axes(rect_scatter)\n",
    "    ax_histx = plt.axes(rect_histx)\n",
    "    ax_histy = plt.axes(rect_histy)\n",
    "\n",
    "    # define the axis for the zoomed-in plot\n",
    "    left = width + left + 0.2\n",
    "    left_h = left + width + 0.02\n",
    "\n",
    "    rect_scatter = [left, bottom, width, height]\n",
    "    rect_histx = [left, bottom_h, width, 0.1]\n",
    "    rect_histy = [left_h, bottom, 0.05, height]\n",
    "\n",
    "    ax_scatter_zoom = plt.axes(rect_scatter)\n",
    "    ax_histx_zoom = plt.axes(rect_histx)\n",
    "    ax_histy_zoom = plt.axes(rect_histy)\n",
    "\n",
    "    # define the axis for the colorbar\n",
    "    left, width = width + left + 0.13, 0.01\n",
    "\n",
    "    rect_colorbar = [left, bottom, width, height]\n",
    "    ax_colorbar = plt.axes(rect_colorbar)\n",
    "\n",
    "    return ((ax_scatter, ax_histy, ax_histx),\n",
    "            (ax_scatter_zoom, ax_histy_zoom, ax_histx_zoom),\n",
    "            ax_colorbar)\n",
    "\n",
    "\n",
    "def plot_distribution(axes, X, y, hist_nbins=50, title=\"\",\n",
    "                      x0_label=\"\", x1_label=\"\"):\n",
    "    ax, hist_X1, hist_X0 = axes\n",
    "\n",
    "    ax.set_title(title)\n",
    "    ax.set_xlabel(x0_label)\n",
    "    ax.set_ylabel(x1_label)\n",
    "\n",
    "    # The scatter plot\n",
    "    colors = cmap(y)\n",
    "    ax.scatter(X[:, 0], X[:, 1], alpha=0.5, marker='o', s=5, lw=0, c=colors)\n",
    "\n",
    "    # Removing the top and the right spine for aesthetics\n",
    "    # make nice axis layout\n",
    "    ax.spines['top'].set_visible(False)\n",
    "    ax.spines['right'].set_visible(False)\n",
    "    ax.get_xaxis().tick_bottom()\n",
    "    ax.get_yaxis().tick_left()\n",
    "    ax.spines['left'].set_position(('outward', 10))\n",
    "    ax.spines['bottom'].set_position(('outward', 10))\n",
    "\n",
    "    # Histogram for axis X1 (feature 5)\n",
    "    hist_X1.set_ylim(ax.get_ylim())\n",
    "    hist_X1.hist(X[:, 1], bins=hist_nbins, orientation='horizontal',\n",
    "                 color='grey', ec='grey')\n",
    "    hist_X1.axis('off')\n",
    "\n",
    "    # Histogram for axis X0 (feature 0)\n",
    "    hist_X0.set_xlim(ax.get_xlim())\n",
    "    hist_X0.hist(X[:, 0], bins=hist_nbins, orientation='vertical',\n",
    "                 color='grey', ec='grey')\n",
    "    hist_X0.axis('off')"
   ]
  },
  {
   "cell_type": "code",
   "execution_count": 36,
   "metadata": {},
   "outputs": [],
   "source": [
    "def make_plot(item_idx):\n",
    "    title, X = distributions[item_idx]\n",
    "    ax_zoom_out, ax_zoom_in, ax_colorbar = create_axes(title)\n",
    "    axarr = (ax_zoom_out, ax_zoom_in)\n",
    "    plot_distribution(axarr[0], X, y, hist_nbins=200,\n",
    "                      x0_label=\"Median Income\",\n",
    "                      x1_label=\"Number of households\",\n",
    "                      title=\"Full data\")\n",
    "\n",
    "    # zoom-in\n",
    "    zoom_in_percentile_range = (0, 99)\n",
    "    cutoffs_X0 = np.percentile(X[:, 0], zoom_in_percentile_range)\n",
    "    cutoffs_X1 = np.percentile(X[:, 1], zoom_in_percentile_range)\n",
    "\n",
    "    non_outliers_mask = (\n",
    "        np.all(X > [cutoffs_X0[0], cutoffs_X1[0]], axis=1) &\n",
    "        np.all(X < [cutoffs_X0[1], cutoffs_X1[1]], axis=1))\n",
    "    plot_distribution(axarr[1], X[non_outliers_mask], y[non_outliers_mask],\n",
    "                      hist_nbins=50,\n",
    "                      x0_label=\"Median Income\",\n",
    "                      x1_label=\"Number of households\",\n",
    "                      title=\"Zoom-in\")\n",
    "\n",
    "    norm = mpl.colors.Normalize(y_full.min(), y_full.max())\n",
    "    mpl.colorbar.ColorbarBase(ax_colorbar, cmap=cmap,\n",
    "                              norm=norm, orientation='vertical',\n",
    "                              label='Color mapping for values of y')"
   ]
  },
  {
   "cell_type": "code",
   "execution_count": null,
   "metadata": {},
   "outputs": [],
   "source": []
  },
  {
   "cell_type": "code",
   "execution_count": null,
   "metadata": {},
   "outputs": [],
   "source": []
  }
 ],
 "metadata": {
  "kernelspec": {
   "display_name": "Python 3.8.3 64-bit",
   "language": "python",
   "name": "python38364bit28c7afb0fc794b32845c6356447d60eb"
  },
  "language_info": {
   "codemirror_mode": {
    "name": "ipython",
    "version": 3
   },
   "file_extension": ".py",
   "mimetype": "text/x-python",
   "name": "python",
   "nbconvert_exporter": "python",
   "pygments_lexer": "ipython3",
   "version": "3.8.3"
  }
 },
 "nbformat": 4,
 "nbformat_minor": 2
}
